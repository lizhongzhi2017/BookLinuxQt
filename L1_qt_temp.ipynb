{
 "cells": [
  {
   "cell_type": "markdown",
   "metadata": {},
   "source": [
    "# 目标\n",
    "\n",
    "设计一个温度显示界面\n",
    "\n",
    "| ![温度显示效果](./image/temp_1.png) | ![温度界面规划](./image/temp_2.png) |\n",
    "| :- | :- |\n",
    "\n",
    "图中左侧是需要达到的显示效果，右侧是UI给的布局。实现思路：先画窗口；然后窗口中显示相关数据；调整布局、格式：\n",
    "* Step1 最简单的QT工程\n",
    "* Step2 温度窗口界面\n",
    "* Step3 窗口中显示温度\n",
    "* Step4 窗口内容布局\n",
    "* ~~[Step5] 增加时间显示~~"
   ]
  },
  {
   "cell_type": "markdown",
   "metadata": {},
   "source": [
    "# 知识内容\n",
    "\n",
    "* QT工程\n",
    "* 程序语言\n",
    "* 窗体创建\n",
    "* 窗体大小、位置配置\n",
    "* 窗体背景颜色、字体颜色配置\n",
    "* Widget和QLabel控件的使用"
   ]
  },
  {
   "cell_type": "markdown",
   "metadata": {},
   "source": [
    "# 最简单的QT工程"
   ]
  },
  {
   "cell_type": "code",
   "execution_count": 1,
   "metadata": {},
   "outputs": [],
   "source": [
    "# !/usr/bin/python3\n",
    "# -*- coding: utf-8 -*-"
   ]
  },
  {
   "cell_type": "markdown",
   "metadata": {},
   "source": [
    "`# !/usr/bin/python3`此语句在解释型语言文件中的第一行出现，用于指定需要用什么样的程序来执行此文件。例如此处是用于设定python3的路径  \n",
    "\n",
    "`# -*- coding: utf-8 -*-`有时也用`#coding:utf-8` 第二行的语句是说明文件的编码类型，主要用于解决文件中出现中文导致异常的问题，注意包含注释中的中文。"
   ]
  },
  {
   "cell_type": "markdown",
   "metadata": {},
   "source": [
    "什么是解释型语言？  \n",
    "\n",
    "因为计算机不能直接理解高级语言，只能理解并执行机器语言，所以需要把高级语言翻译成机器语言。这个翻译的过程有两种：编译和解释。编译是对源文件进行执行一个编译过程，这个过程通常由编译器完成，生产可执行文件，如exe文件，运行时直接使用exe即可。解释是程序执行是发生的，程序运行前不需要编译过程，高级语言到机器语言的翻译由解释器完成。不同的语言有不同的编译器或解释器。编译型语言执行时是直接进行的，因此效率高，而解释型语言边翻译边执行，效率较低，但是随着计算机技术的发展，其处理能力越来越强，解释型语言的执行效率瓶颈得到缓解。"
   ]
  },
  {
   "cell_type": "markdown",
   "metadata": {},
   "source": [
    "***Tips***\n",
    "\n",
    "程序语言分类：\n",
    "* 网页代码：Html, Javascript, Css, Php, Xml等\n",
    "* 解释型语言：Python，Ruby, Perl等\n",
    "* 混合型语言：JAVA, C#\n",
    "* 编译型语言：C, C++\n",
    "* 汇编语言：最接近硬件的语言，属于符号语言\n",
    "\n",
    "> 真正的程序员用C++, 聪明的程序员用Delphi"
   ]
  },
  {
   "cell_type": "code",
   "execution_count": 2,
   "metadata": {},
   "outputs": [],
   "source": [
    "import sys"
   ]
  },
  {
   "cell_type": "markdown",
   "metadata": {},
   "source": [
    "导入python标准库中的sys模块，这是python中导入模块的一种方法。与C++的using namespace很像。"
   ]
  },
  {
   "cell_type": "code",
   "execution_count": 1,
   "metadata": {},
   "outputs": [],
   "source": [
    "from PyQt5.QtWidgets import QApplication, QLabel"
   ]
  },
  {
   "cell_type": "markdown",
   "metadata": {},
   "source": [
    "`from ... import ...`这个是导入模块的另一种方法。"
   ]
  },
  {
   "cell_type": "code",
   "execution_count": 2,
   "metadata": {},
   "outputs": [],
   "source": [
    "app = QApplication([])"
   ]
  },
  {
   "cell_type": "markdown",
   "metadata": {},
   "source": [
    "```cpp\n",
    "// C++版本\n",
    "#include <QApplication>\n",
    "\n",
    "int main(int argc, char *argv[])\n",
    "{\n",
    "    QApplication a(argc, argv);\n",
    "    \n",
    "    return a.exec();\n",
    "}\n",
    "```"
   ]
  },
  {
   "cell_type": "markdown",
   "metadata": {},
   "source": [
    "每一个GUI界面都必须创建一个QApplication对象，不然qt的很多功能将不能使用。所以每个工程的开始都会有这条语句。 \n",
    "\n",
    "这里的中括号`[]`代表的是命令行参数，这里我们不需要命令行参数所有用`[]`，即空的列表\n",
    "QApplication的职责：\n",
    "* 初始化用户桌面设置，并监视属性的变化\n",
    "* 处理事件，接收来自底层窗口系统的事件，并把事件分发相关联的窗口\n",
    "* 解析命令行参数\n",
    "* 设定程序运行的外观\n",
    "* 鼠标管理\n",
    "* 会话管理\n",
    "* 等"
   ]
  },
  {
   "cell_type": "markdown",
   "metadata": {},
   "source": [
    "为了能看到一些东西，我们创建一个简单的标签。"
   ]
  },
  {
   "cell_type": "code",
   "execution_count": 3,
   "metadata": {},
   "outputs": [],
   "source": [
    "label = QLabel('Hello World!')"
   ]
  },
  {
   "cell_type": "markdown",
   "metadata": {},
   "source": [
    "接下来我们告诉qt把这个标签显示出来"
   ]
  },
  {
   "cell_type": "code",
   "execution_count": 4,
   "metadata": {},
   "outputs": [],
   "source": [
    "label.show()"
   ]
  },
  {
   "cell_type": "markdown",
   "metadata": {},
   "source": [
    "这时我们应该可以看到一个小窗口了。"
   ]
  },
  {
   "cell_type": "code",
   "execution_count": 5,
   "metadata": {},
   "outputs": [
    {
     "data": {
      "text/plain": [
       "0"
      ]
     },
     "execution_count": 5,
     "metadata": {},
     "output_type": "execute_result"
    }
   ],
   "source": [
    "app.exec_()"
   ]
  },
  {
   "cell_type": "markdown",
   "metadata": {},
   "source": [
    "最后的这条语句是告诉Qt运行我们创建`app`直到我们把窗口关闭"
   ]
  },
  {
   "cell_type": "markdown",
   "metadata": {},
   "source": [
    "# 温度窗口界面"
   ]
  },
  {
   "cell_type": "markdown",
   "metadata": {},
   "source": [
    "下面我们使用QWidget来创建一个主窗口。"
   ]
  },
  {
   "cell_type": "code",
   "execution_count": 1,
   "metadata": {},
   "outputs": [],
   "source": [
    "# !/usr/bin/python3\n",
    "# -*- coding: utf-8 -*-\n",
    "\n",
    "import sys\n",
    "from PyQt5.QtWidgets import QApplication, QWidget, QLabel\n",
    "\n",
    "app = QApplication([])"
   ]
  },
  {
   "cell_type": "code",
   "execution_count": 2,
   "metadata": {},
   "outputs": [],
   "source": [
    "widgetMainWindow = QWidget()\n",
    "widgetMainWindow.show()"
   ]
  },
  {
   "cell_type": "markdown",
   "metadata": {},
   "source": [
    "我们用QWidget类创建了一个主窗体，并且用方法show完成窗体的显示。 "
   ]
  },
  {
   "cell_type": "code",
   "execution_count": 4,
   "metadata": {},
   "outputs": [
    {
     "data": {
      "text/plain": [
       "0"
      ]
     },
     "execution_count": 4,
     "metadata": {},
     "output_type": "execute_result"
    }
   ],
   "source": [
    "app.exec_()"
   ]
  },
  {
   "cell_type": "markdown",
   "metadata": {},
   "source": [
    "```cpp\n",
    "// C++版本\n",
    "#include <QApplication>\n",
    "\n",
    "int main(int argc, char *argv[])\n",
    "{\n",
    "    QApplication a(argc, argv);\n",
    "    MainWindow w;\n",
    "    w.show();\n",
    "    return a.exec();\n",
    "}\n",
    "```"
   ]
  },
  {
   "cell_type": "markdown",
   "metadata": {},
   "source": [
    "## QWidget\n",
    "\n",
    "我们在这里需要了解下QWidget，因为我们想在上面显示温度数据。目前看到的窗口如下图：  \n",
    "<img src=\"./image/qwidget_window.png\" width=\"45%\">\n",
    "\n",
    "这个窗口包含三部分：标题栏-橙色、边框-红色、客户区-蓝色。\n",
    "\n",
    "* 标题栏可以改显示内容；  \n",
    "* 边框大小与窗口尺寸有关；\n",
    "* 客户区是用来放置其他控件的可以改背景颜色"
   ]
  },
  {
   "cell_type": "markdown",
   "metadata": {},
   "source": [
    "上面显示窗口的时候只用了2行代码\n",
    "```\n",
    "widgetMainWindow = QWidget()\n",
    "widgetMainWindow.show()\n",
    "```\n",
    "\n",
    "上面代码通过`widgetMainWindow.show()`就能使窗口显示出来，那么应该也可以用类似的方法修改其他的参数，例如大小、背景颜色、标题内容等等。事实上确实如此"
   ]
  },
  {
   "cell_type": "code",
   "execution_count": 1,
   "metadata": {},
   "outputs": [
    {
     "data": {
      "text/plain": [
       "0"
      ]
     },
     "execution_count": 1,
     "metadata": {},
     "output_type": "execute_result"
    }
   ],
   "source": [
    "# !/usr/bin/python3\n",
    "# -*- coding: utf-8 -*-\n",
    "\n",
    "import sys\n",
    "from PyQt5.QtWidgets import QApplication, QWidget\n",
    "\n",
    "app = QApplication([])\n",
    "\n",
    "widgetMainWindow = QWidget()\n",
    "widgetMainWindow.setWindowTitle(\"温度\") #修改标题内容\n",
    "widgetMainWindow.resize(250,150) #修改窗口大小\n",
    "widgetMainWindow.setStyleSheet(\"background-color: black\") #修改窗口背景颜色\n",
    "widgetMainWindow.show() # 显示窗口\n",
    "\n",
    "app.exec_()"
   ]
  },
  {
   "cell_type": "markdown",
   "metadata": {},
   "source": [
    "`setWindowTitle`函数用于修改窗口的标题文本内容，`resize`用于修改控件的大小，`setStyleSheet`函数用于修改窗口的样式表，此处修改背景颜色为黑色。`show`函数用于显示窗口"
   ]
  },
  {
   "cell_type": "markdown",
   "metadata": {},
   "source": [
    "```cpp\n",
    "// C++版本\n",
    "//窗口加上标题\n",
    "w.setWindowTitle(\"温度\");  \n",
    "\n",
    "// 设定窗口尺寸\n",
    "w.resize(250,150);    \n",
    "```"
   ]
  },
  {
   "cell_type": "markdown",
   "metadata": {},
   "source": [
    "# 控件\n",
    "\n",
    "qt的APP中能看到的都被称作控件：按钮、标签、窗口、对话框、进度条、等等。qt的控件与Html的元素一样之前嵌套，例如一个窗口里可以嵌入按钮、嵌入标签等。\n",
    "\n",
    "下图可以看到app上常用的一些控件：\n",
    "![](./image/qt_widgets.png)\n",
    "\n",
    "图上从上到下，从左到右依次是:\n",
    "* QLabel\n",
    "* QComboBox\n",
    "* QCheckBox\n",
    "* QRadioButton\n",
    "* QPushButton\n",
    "* QTableWidget\n",
    "* QLineEdit\n",
    "* QSlider\n",
    "* QProgressBar"
   ]
  },
  {
   "cell_type": "markdown",
   "metadata": {},
   "source": [
    "# 窗口中显示温度"
   ]
  },
  {
   "cell_type": "markdown",
   "metadata": {},
   "source": [
    "下面我们使用Qlabel来显示温度标注“T-”、温度值和温度符号"
   ]
  },
  {
   "cell_type": "code",
   "execution_count": null,
   "metadata": {},
   "outputs": [],
   "source": [
    "# !/usr/bin/python3\n",
    "# -*- coding: utf-8 -*-\n",
    "\n",
    "import sys\n",
    "from PyQt5.QtWidgets import QApplication, QWidget, QLabel\n",
    "\n",
    "app = QApplication([])\n",
    "widgetMainWindow = QWidget()\n",
    "widgetMainWindow.setWindowTitle(\"温度\") #修改标题内容\n",
    "widgetMainWindow.resize(250,150) #修改窗口大小\n",
    "widgetMainWindow.setStyleSheet(\"background-color: black\") #修改窗体背景颜色\n",
    "widgetMainWindow.show()"
   ]
  },
  {
   "cell_type": "code",
   "execution_count": null,
   "metadata": {},
   "outputs": [],
   "source": [
    "labelTemperatureText = QLabel()\n",
    "labelTemperatureText.setText(\"T-\")\n",
    "labelTemperatureText.show()\n",
    "\n",
    "labelTemperatureData = QLabel()\n",
    "labelTemperatureData.setText(\"36.5\")\n",
    "labelTemperatureData.show()\n",
    "app.exec_()"
   ]
  },
  {
   "cell_type": "markdown",
   "metadata": {},
   "source": [
    "```cpp\n",
    "// C++版本\n",
    "#include <QLabel>\n",
    "// 包含头文件，不然QLabel会未定义\n",
    "\n",
    "//显示一个字符串\n",
    "QLabel* labelTemperatureText = new QLabel(&w);\n",
    "labelTemperatureText->setText(\"T-\");   \n",
    "```"
   ]
  },
  {
   "cell_type": "markdown",
   "metadata": {},
   "source": [
    "为了显示温度数据，我们新建了2个标签`label`，并通过`setText`方法改变了标签的显示内容，通过`show`来显示内容。\n",
    "\n",
    "可是运行结果却是出现了3个窗口，而不是把`T-`和`36.5`显示到同一个窗口中。问题的原因是标签没有嵌入到主窗口。\n",
    "> 没有嵌入到其他控件中的控件称为窗体对象\n",
    "\n",
    "标签和主窗口是相互独立的窗口。我们需要设置label的父对象为`w`，即配置温度数据是显示在主窗口的。\n",
    "\n",
    "同时我们也发现了一个问题主窗体背景色与字体颜色一致，考虑问题逐个解决的原则，暂时使用默认背景色。"
   ]
  },
  {
   "cell_type": "code",
   "execution_count": null,
   "metadata": {},
   "outputs": [],
   "source": [
    "# !/usr/bin/python3\n",
    "# -*- coding: utf-8 -*-\n",
    "\n",
    "import sys\n",
    "from PyQt5.QtWidgets import QApplication, QWidget, QLabel\n",
    "\n",
    "app = QApplication([])\n",
    "widgetMainWindow = QWidget()\n",
    "widgetMainWindow.setWindowTitle(\"温度\") #修改标题内容\n",
    "widgetMainWindow.resize(250,150) #修改窗口大小\n",
    "# widgetMainWindow.setStyleSheet(\"background-color: black\") #修改窗体背景颜色\n",
    "widgetMainWindow.show()\n",
    "\n",
    "labelTemperatureText = QLabel()\n",
    "labelTemperatureText.setText(\"T-\")\n",
    "labelTemperatureText.setParent(widgetMainWindow)\n",
    "labelTemperatureText.show()\n",
    "\n",
    "labelTemperatureData = QLabel()\n",
    "labelTemperatureData.setText(\"36.5\")\n",
    "labelTemperatureData.setParent(widgetMainWindow)\n",
    "labelTemperatureData.show()\n",
    "\n",
    "app.exec_()"
   ]
  },
  {
   "cell_type": "markdown",
   "metadata": {},
   "source": [
    "我们也可以在创建标签的时候指定其父对象/控件。方法：\n",
    "```\n",
    "labelTemperatureText = QLabel(widgetMainWindow)\n",
    "labelTemperatureText.setText(\"T-\")\n",
    "labelTemperatureText.show()\n",
    "```"
   ]
  },
  {
   "cell_type": "markdown",
   "metadata": {},
   "source": [
    "温度数据都显示在同一个窗体上了，但是`T-`和`36.5`缺显示到了一起。解决这个问题之前我们先对程序做个简单的修改，因为程序中已经指定了`widget`和`labelTemperatureText`、`labelTemperatureData`的从属关系，所以可以只用`widgetMainWindow.show()`来完成窗口及数据的显示，不同的是需要把这条语句放到label配置完成后。\n",
    "```\n",
    "# widgetMainWindow.setStyleSheet(\"background-color: black\") #修改窗体背景颜色\n",
    "\n",
    "labelTemperatureText = QLabel()\n",
    "labelTemperatureText.setText(\"T-\")\n",
    "labelTemperatureText.setParent(widgetMainWindow)\n",
    "\n",
    "labelTemperatureData = QLabel()\n",
    "labelTemperatureData.setText(\"36.5\")\n",
    "labelTemperatureData.setParent(widgetMainWindow)\n",
    "\n",
    "widgetMainWindow.show()\n",
    "\n",
    "app.exec_()\n",
    "```"
   ]
  },
  {
   "cell_type": "markdown",
   "metadata": {},
   "source": [
    "显示内容重叠问题，我们下一小节进行研究解决"
   ]
  },
  {
   "cell_type": "markdown",
   "metadata": {},
   "source": [
    "# 修改标签属性"
   ]
  },
  {
   "cell_type": "markdown",
   "metadata": {},
   "source": [
    "关于标签内容重叠问题，关键在于显示位置不对。经过研究了解到可以通过`setGeometry`来配置控件的位置。`setGeometry`的使用需要确定起始位置和控件尺寸，这里的位置和尺寸指的是在屏幕上的像素位置和像素的长宽。那么怎么知道起始位置呢？这研究又引出了一个问题，那就是QT的坐标系。"
   ]
  },
  {
   "cell_type": "markdown",
   "metadata": {},
   "source": [
    "QT是有坐标系的，通过这个坐标系可以控制各个控件的位置。同时我们也可以想象UI界面实际上就是各种控件放在窗口上，然后给用户展示不同的内容，同时捕捉用户的不同操作。迫不及待想了解QT坐标系的可以先来个穿越[QT坐标系_TODO]()。我们先通过下图来简单了解下QT的坐标系吧：\n",
    "![](./image/qwidget_geometry.png)"
   ]
  },
  {
   "cell_type": "markdown",
   "metadata": {},
   "source": [
    "上图显示的QWidget对象主窗口的相关内容和尺寸，图中geometry决定的是控件的位置和大小，经过简单的搜索即可知道用setGeometry可设置空间的位置和大小。"
   ]
  },
  {
   "cell_type": "markdown",
   "metadata": {},
   "source": [
    "resize与setGeometry的区别：\n",
    "* setGeometry和resize操控的都是用户区域的宽和高，不包括窗口框架额宽度。\n",
    "* resize(width, height)：第一个参数是用户区域的宽，第二个参数是用户区域的高。\n",
    "* setGeometry(x_noFrame, y_noFrame, width, height)：前两个参数是用户区域左上角在以[框架/屏幕]左上角为坐标原点的坐标系中的x坐标和y坐标，后两个参数分别是用户区域的宽和高。如果对象是窗体(无父控件)那么前两个参数相对于屏幕左上角，如果对象是控件，那么前两个参数是相对于父控件的左上角。"
   ]
  },
  {
   "cell_type": "code",
   "execution_count": 1,
   "metadata": {},
   "outputs": [
    {
     "data": {
      "text/plain": [
       "0"
      ]
     },
     "execution_count": 1,
     "metadata": {},
     "output_type": "execute_result"
    }
   ],
   "source": [
    "# !/usr/bin/python3\n",
    "# -*- coding: utf-8 -*-\n",
    "\n",
    "import sys\n",
    "from PyQt5.QtWidgets import QApplication, QWidget, QLabel\n",
    "\n",
    "app = QApplication([])\n",
    "widgetMainWindow = QWidget()\n",
    "widgetMainWindow.setWindowTitle(\"温度\") #修改标题内容\n",
    "widgetMainWindow.resize(250,150) #修改窗口大小\n",
    "# widgetMainWindow.setStyleSheet(\"background-color: black\") #修改窗体背景颜色\n",
    "\n",
    "labelTemperatureText = QLabel()\n",
    "labelTemperatureText.setText(\"T-\")\n",
    "labelTemperatureText.setParent(widgetMainWindow)\n",
    "labelTemperatureText.setGeometry(0, 50, 50, 50)\n",
    "\n",
    "labelTemperatureData = QLabel()\n",
    "labelTemperatureData.setText(\"36.5\")\n",
    "labelTemperatureData.setParent(widgetMainWindow)\n",
    "labelTemperatureData.setGeometry(50, 50, 50, 50)\n",
    "\n",
    "widgetMainWindow.show()\n",
    "\n",
    "app.exec_()"
   ]
  },
  {
   "cell_type": "markdown",
   "metadata": {},
   "source": [
    "为什么不用`widgetMainWindow.setGeometry()`。因为默认窗体位置合适，只需要配置大小即可，需要指定显示位置时可自行配置。"
   ]
  },
  {
   "cell_type": "markdown",
   "metadata": {},
   "source": [
    "```cpp\n",
    "// C++版本\n",
    "//位置不对，设置正确位置\n",
    "labelTemperatureText->setGeometry(0, 50, 50, 50);    \n",
    "```"
   ]
  },
  {
   "cell_type": "markdown",
   "metadata": {},
   "source": [
    "嗯，到此需要解决的问题就都差不多了，剩余需要解决的问题是字体、字号、字体颜色；精调标签位置与尺寸；增加摄氏度符号显示。\n",
    "\n",
    "* 字体属性修改：`labelTemperatureText.setFont(QFont(\"Microsoft YaHei\",15))` ,这是配置标签1的字体为微软雅黑、字体大小为15px。\n",
    "* 标签颜色属性：`labelTemperatureText.setStyleSheet(\"background-color: black;color:rgb(255,0,255,255)\")`，其中背景色用的是字符“black”，字体颜色用的是RGB。解释器内部会吧`black`转变为RGB数据，使用RGB可更灵活的配置颜色。"
   ]
  },
  {
   "cell_type": "markdown",
   "metadata": {},
   "source": [
    "\n",
    "```cpp\n",
    "// C++版本\n",
    "\n",
    "//字体大小不对，设置\n",
    "labelTemperatureText->setStyleSheet(\"font-size: 66px\");\n",
    "//试试其他字号\n",
    "\n",
    "//字符颜色不对\n",
    "labelTemperatureText->setStyleSheet(\"color: rgb(255,0,255)\");\n",
    "//执行之后，颜色对了，字号又变小了\n",
    "//因为样式表第二次设置，把第一次的覆盖了。\n",
    "\n",
    "//所以需要同时设置两个属性\n",
    "labelTemperatureText->setStyleSheet(\"font-size: 66px; color: rgb(255,0,255)\");   \n",
    "```"
   ]
  },
  {
   "cell_type": "markdown",
   "metadata": {},
   "source": [
    "# 任务\n",
    "\n",
    "完善代码，完成最终显示效果？"
   ]
  },
  {
   "cell_type": "markdown",
   "metadata": {},
   "source": [
    "**参考**"
   ]
  },
  {
   "cell_type": "code",
   "execution_count": null,
   "metadata": {},
   "outputs": [],
   "source": [
    "# !/usr/bin/python3\n",
    "# -*- coding: utf-8 -*-\n",
    "\n",
    "import sys\n",
    "from PyQt5.QtWidgets import QApplication, QWidget, QLabel\n",
    "from PyQt5.QtGui import QFont\n",
    "\n",
    "app = QApplication([])\n",
    "widgetMainWindow = QWidget()\n",
    "widgetMainWindow.setWindowTitle(\"温度\") #修改标题内容\n",
    "widgetMainWindow.resize(250,150) #修改窗口大小\n",
    "widgetMainWindow.setStyleSheet(\"background-color: black\") #修改窗体背景颜色\n",
    "\n",
    "labelTemperatureText = QLabel()\n",
    "labelTemperatureText.setText(\"T-\")\n",
    "labelTemperatureText.setFont(QFont(\"Microsoft YaHei\",15))\n",
    "labelTemperatureText.setStyleSheet(\"background-color: black;color:rgb(255,0,255,255)\")\n",
    "labelTemperatureText.setParent(widgetMainWindow)\n",
    "labelTemperatureText.setGeometry(0, 50, 50, 50)\n",
    "\n",
    "labelTemperatureData = QLabel()\n",
    "labelTemperatureData.setText(\"36.5\")\n",
    "labelTemperatureData.setFont(QFont(\"Microsoft YaHei\",45))\n",
    "labelTemperatureData.setStyleSheet(\"background-color: black;color:rgb(255,0,255,255)\")\n",
    "labelTemperatureData.setParent(widgetMainWindow)\n",
    "labelTemperatureData.setGeometry(50, 0, 150, 150)\n",
    "\n",
    "labelTemperatureSymbol = QLabel()\n",
    "labelTemperatureSymbol.setText(\"\\260C\")\n",
    "labelTemperatureSymbol.setFont(QFont(\"Microsoft YaHei\",15))\n",
    "labelTemperatureSymbol.setStyleSheet(\"background-color: black;color:rgb(255,0,255,255)\")\n",
    "labelTemperatureSymbol.setParent(widgetMainWindow)\n",
    "labelTemperatureSymbol.setGeometry(200, 0, 50, 50)\n",
    "\n",
    "widgetMainWindow.show()\n",
    "\n",
    "app.exec_()"
   ]
  },
  {
   "cell_type": "markdown",
   "metadata": {},
   "source": [
    "```cpp\n",
    "// C++版本\n",
    "\n",
    "#include <QApplication>\n",
    "#include <QLabel>\n",
    "\n",
    "int main(int argc, char *argv[])\n",
    "{\n",
    "    QApplication a(argc, argv);\n",
    "    MainWindow w;\n",
    "\n",
    "    w.setWindowTitle(\"温度\");  // 加上一个标题\n",
    "    w.resize(250,150); // 设定尺寸\n",
    "\n",
    "\n",
    "    //显示一个字符串\n",
    "    QLabel* labelTemperatureText = new QLabel(&w);\n",
    "    labelTemperatureText->setText(\"T-\");\n",
    "\n",
    "    //位置不对，设置正确位置\n",
    "    labelTemperatureText->setGeometry(0, 50, 50, 50);\n",
    "\n",
    "    //字体大小不对，设置\n",
    "    labelTemperatureText->setStyleSheet(\"font-size: 66px\");\n",
    "\n",
    "    //颜色不对\n",
    "    labelTemperatureText->setStyleSheet(\"color: rgb(255,0,255)\");\n",
    "\n",
    "    //执行之后，字号又变小了\n",
    "    //因为样式表第二次设置，把第一次的覆盖了。\n",
    "    //所以需要同时设置两个属性\n",
    "    labelTemperatureText->setStyleSheet(\"font-size: 66px; color: rgb(255,0,255)\");\n",
    "\n",
    "    //任务：显示另外一个标签\n",
    "    QLabel* labelTemperatureData = new QLabel(&w);\n",
    "    labelTemperatureData->setText(\"36.5\");\n",
    "\n",
    "\n",
    "    //背景颜色不对\n",
    "    w.setStyleSheet(\"background-color: black\");\n",
    "\n",
    "    w.show();\n",
    "    return a.exec();\n",
    "}  \n",
    "```"
   ]
  },
  {
   "cell_type": "markdown",
   "metadata": {},
   "source": [
    "参考在线文档：  \n",
    "* [PyQt5中文教程](https://maicss.gitbooks.io/pyqt5/content/)  \n",
    "* [zetcode](http://zetcode.com/gui/pyqt5/)  \n",
    "* [PyQt5 Reference Guide](https://www.riverbankcomputing.com/static/Docs/PyQt5/)  \n",
    "* [Qt 5.7.1 Reference Documentation](https://stuff.mit.edu/afs/athena/software/texmaker_v5.0.2/qt57/doc/qtwidgets/qtwidgets-index.html)  "
   ]
  },
  {
   "cell_type": "code",
   "execution_count": null,
   "metadata": {},
   "outputs": [],
   "source": []
  }
 ],
 "metadata": {
  "kernelspec": {
   "display_name": "Python [conda env:root] *",
   "language": "python",
   "name": "conda-root-py"
  },
  "language_info": {
   "codemirror_mode": {
    "name": "ipython",
    "version": 3
   },
   "file_extension": ".py",
   "mimetype": "text/x-python",
   "name": "python",
   "nbconvert_exporter": "python",
   "pygments_lexer": "ipython3",
   "version": "3.7.0"
  },
  "toc": {
   "base_numbering": 1,
   "nav_menu": {},
   "number_sections": true,
   "sideBar": true,
   "skip_h1_title": false,
   "title_cell": "Table of Contents",
   "title_sidebar": "Contents",
   "toc_cell": false,
   "toc_position": {
    "height": "calc(100% - 180px)",
    "left": "10px",
    "top": "150px",
    "width": "176.023px"
   },
   "toc_section_display": true,
   "toc_window_display": true
  }
 },
 "nbformat": 4,
 "nbformat_minor": 2
}
