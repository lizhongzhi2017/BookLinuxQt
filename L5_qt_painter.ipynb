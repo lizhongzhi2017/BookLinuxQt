{
 "cells": [
  {
   "cell_type": "markdown",
   "metadata": {},
   "source": [
    "# 我们的国旗"
   ]
  },
  {
   "cell_type": "markdown",
   "metadata": {},
   "source": [
    "上大学时我在学生会做过宣传委员，曾经办过一张板报，板报上画过一面国旗，结果上午抬出去，下午就被抬回来了，并被通报说画的国旗不标准，要求重新设计。当时并不明白什么原因，所以当时连夜重新设计了板报，把国旗改成了党旗。\n",
    "\n",
    "后来才知道当时的国旗没有一心向党。\n",
    "![](./image/qt_china_flag_3.png)"
   ]
  },
  {
   "cell_type": "markdown",
   "metadata": {},
   "source": [
    "为了做好这个画国旗教程，我特意查了下国旗的尺寸(3:2)：\n",
    "1. 2880x1920; 2. 2400x1600; 3. 1920x1280; 4. 1440x960; 5. 960x640; 6. 660x440\n",
    "\n",
    "国旗，旗面红色，象征革命。左上方五颗红星，一星较大，居左，象征中国共产党； 4星较小，环拱大星之右，并各有一角正对大星中心，象征新中国成立时的工人阶级、农民阶级、城市小资产解决、民族资产阶级。5星象征革命人民大团结和人民对党的衷心拥护。\n",
    "\n",
    "国旗上五星的位置有着很精确的定位，先将长方形国旗分成四份，并把左上角的小矩形再次拆分，长边分为15格，宽边分为10格，从左向右1-15，从上至下1-10。象征中国共产党的五角星位于(5,5)格，五角星所在圆直径等于6格长度；4颗小星分别位于(10,2),(12,4), (12,7), (10,9)格位置，五角星所在圆直径等于2格长度，4颗小星均有一角指向大五角星。\n",
    "\n",
    "![](./image/qt_china_flag_1.png)\n",
    "\n",
    "![](./image/qt_china_flag_2.png)\n"
   ]
  },
  {
   "cell_type": "markdown",
   "metadata": {},
   "source": [
    "# 设计思路\n",
    "\n",
    "为了让大家明白国旗的含义，我决定让大家看到国旗的绘制动画，并增加辅助线以让大家明白四小星向着大星的含义。所以：\n",
    "1. 绘制一个660x440的矩形\n",
    "2. 矩形中间画线，拆分为4份\n",
    "3. 左上角矩形拆分为10行15列\n",
    "4. 找到大五角星圆心，画圆\n",
    "5. 找到小五角星圆心，画圆\n",
    "6. 4个小圆圆形到大圆圆心画线\n",
    "7. 相同方向画出5个五角星\n",
    "8. 4个小五角星进行旋转使一角与圆心连线重合\n",
    "9. 矩形填充红色\n",
    "10. 五角星填充黄色"
   ]
  },
  {
   "cell_type": "markdown",
   "metadata": {},
   "source": [
    "# 在哪里画图、用什么画、怎么画"
   ]
  },
  {
   "cell_type": "markdown",
   "metadata": {},
   "source": [
    "* 用什么画？ Qt中用`QPainter`进行绘画\n",
    "* 画在哪？可以画在继承了`QPaintDevice`的类上，包括：QGLFramebufferObject, QGLPixelBuffer, QImage, QOpenGLPaintDevice, QPagedPaintDevice, QPaintDeviceWindow, QPicture, QPixmap, QSvgGenerator, 和 QWidget。所以继承自`QWidget`的控件均可画图，有很多，当然可以直接在Qwidget上绘画。\n",
    "* 怎么画？QPainter 类提供了很多绘画相关的函数可被调用，例如：drawLine、drawImage、drawEllipse、drawPath、drawPoint等等。\n",
    "* 什么时候画？drawLine等绘图函数并不会直接把图片画在控件上，而是需要重构paintEvent函数，所以需要创建依赖于QWidget的子类，并在子类中重构paintEvent函数。\n",
    "* 哪些条件会触发paintEvent事件？1）窗口第一次执行时系统会自动产生一个绘制事件。2）调整窗口控件大小时，系统会自动产生一个绘制事件。3）窗口控件被其他窗口遮挡，然后又再次显示时会产生绘制事件。4）调用控件的update函数或repaint函数时会产生一个绘制事件。"
   ]
  },
  {
   "cell_type": "markdown",
   "metadata": {},
   "source": [
    "# 绘制国旗\n"
   ]
  },
  {
   "cell_type": "markdown",
   "metadata": {},
   "source": [
    "## 画图前的准备\n",
    "\n",
    "1. 使用控件QWidget，长宽比例3：2，我们选择660x440的比例尺寸"
   ]
  },
  {
   "cell_type": "code",
   "execution_count": 1,
   "metadata": {},
   "outputs": [],
   "source": [
    "from PyQt5.QtWidgets import QApplication, QWidget\n",
    "from PyQt5.QtGui import QPainter, QColor"
   ]
  },
  {
   "cell_type": "markdown",
   "metadata": {},
   "source": [
    "绘图类QPainter和画笔颜色需要导入。然后需要重新定义控件以重构绘图事件处理函数。我们定义了`QWidgetDraw`类，类中重新定义paintEvent函数，为了让绘图过程更简单，把绘图部分封装为函数`draw`。代码如下"
   ]
  },
  {
   "cell_type": "code",
   "execution_count": 2,
   "metadata": {},
   "outputs": [],
   "source": [
    "class QWidgetDraw(QWidget):\n",
    "    def __init__(self, parent = None):\n",
    "        super(QWidgetDraw, self).__init__(parent)\n",
    "        \n",
    "    def paintEvent(self, event):\n",
    "        qpainter = QPainter()\n",
    "        qpainter.begin(self)\n",
    "        self.draw(qpainter)\n",
    "        qpainter.end()\n",
    "    \n",
    "    def draw(self, qpainter):\n",
    "        qpainter.drawLine(20,20,100,100)\n",
    "        print(\"u can draw\")"
   ]
  },
  {
   "cell_type": "markdown",
   "metadata": {},
   "source": [
    "draw函数中添加了一条日志，这样我们就可以很好的验证什么时候画图的问题了。定义完`QWidgetDraw`类后就需要进行实例化、配置窗口参数并显示窗口了。为了看到exec_()中做的事情，我们在show()后添加日志进行验证。同时drawLine中设定直线的起始坐标是(20,20)到(100,100)，所以还可以看到绘图坐标系的坐标原点位置。"
   ]
  },
  {
   "cell_type": "code",
   "execution_count": 3,
   "metadata": {},
   "outputs": [
    {
     "name": "stdout",
     "output_type": "stream",
     "text": [
      "widgetDraw show done\n",
      "u can draw\n"
     ]
    },
    {
     "data": {
      "text/plain": [
       "0"
      ]
     },
     "execution_count": 3,
     "metadata": {},
     "output_type": "execute_result"
    }
   ],
   "source": [
    "app = QApplication([])\n",
    "\n",
    "widgetDraw = QWidgetDraw()\n",
    "widgetDraw.resize(660+40,440+40)\n",
    "widgetDraw.show()\n",
    "print(\"widgetDraw show done\")\n",
    "\n",
    "app.exec_()"
   ]
  },
  {
   "cell_type": "markdown",
   "metadata": {},
   "source": [
    "从日志可以看出，程序是执行exec_()时自动创建了paintevent，之后才调用了draw函数。并且子啊屏幕上切换不同窗口后再次且回画图界面会再次触发paintevent，并执行draw函数\n",
    "```\n",
    "# 执行日志\n",
    "widgetDraw show done\n",
    "u can draw\n",
    "u can draw\n",
    "u can draw\n",
    "```"
   ]
  },
  {
   "cell_type": "markdown",
   "metadata": {},
   "source": [
    "## 绘制矩形"
   ]
  },
  {
   "cell_type": "markdown",
   "metadata": {},
   "source": [
    "绘制矩形只需要修改draw函数中的绘图命令即可。为了执行正确，我们重新定义QWidgetDraw类如下："
   ]
  },
  {
   "cell_type": "code",
   "execution_count": 1,
   "metadata": {},
   "outputs": [
    {
     "data": {
      "text/plain": [
       "0"
      ]
     },
     "execution_count": 1,
     "metadata": {},
     "output_type": "execute_result"
    }
   ],
   "source": [
    "from PyQt5.QtWidgets import QApplication, QWidget\n",
    "from PyQt5.QtGui import QPainter, QColor\n",
    "from PyQt5.QtCore import QRectF\n",
    "\n",
    "class QWidgetDraw(QWidget):\n",
    "    def __init__(self, parent = None):\n",
    "        super(QWidgetDraw, self).__init__(parent)\n",
    "        \n",
    "    def paintEvent(self, event):\n",
    "        qpainter = QPainter()\n",
    "        qpainter.begin(self)\n",
    "        self.draw(qpainter)\n",
    "        qpainter.end()\n",
    "\n",
    "    def draw(self, qpainter):\n",
    "        qpainter.drawRect(20, 20, 660, 440) # 绘制国旗外边框\n",
    "\n",
    "app = QApplication([])\n",
    "\n",
    "widgetDraw = QWidgetDraw()\n",
    "widgetDraw.resize(660+40,440+40)\n",
    "widgetDraw.show()\n",
    "\n",
    "app.exec_()"
   ]
  },
  {
   "cell_type": "markdown",
   "metadata": {},
   "source": [
    "然后我们需要把矩形窗口分隔为4份，我们可以定义一个等分函数在先把大的矩形划分为4等分，然后再把左上角的矩形划分为10x15份，代码如下："
   ]
  },
  {
   "cell_type": "code",
   "execution_count": null,
   "metadata": {},
   "outputs": [],
   "source": [
    "from PyQt5.QtWidgets import QApplication, QWidget\n",
    "from PyQt5.QtGui import QPainter, QColor\n",
    "from PyQt5.QtCore import QRectF\n",
    "\n",
    "class QWidgetDraw(QWidget):\n",
    "    def __init__(self, parent = None):\n",
    "        super(QWidgetDraw, self).__init__(parent)\n",
    "        \n",
    "    def paintEvent(self, event):\n",
    "        qpainter = QPainter()\n",
    "        qpainter.begin(self)\n",
    "        self.draw(qpainter)\n",
    "        qpainter.end()\n",
    "\n",
    "    def draw(self, qpainter):\n",
    "        qpainter.drawRect(20, 20, 660, 440) # 绘制国旗外边框\n",
    "        \n",
    "        # 矩形四等分，然后左上角矩形做10x15等分\n",
    "        self.drawDivide(qpainter, 20, 20, 2, 2, 660, 440)\n",
    "        self.drawDivide(qpainter, 20, 20, 15, 10, 330, 220)\n",
    "    \n",
    "    # 左上角矩形绘制10x15的分割\n",
    "    def drawDivide(self, qpainter, x, y, wCnt, hCnt, w, h):\n",
    "        step = w/wCnt\n",
    "        for num in range(wCnt):\n",
    "            qpainter.drawLine(x+num*step, y, x+num*step, y+h)\n",
    "        \n",
    "        step = h/hCnt\n",
    "        for num in range (hCnt):\n",
    "            qpainter.drawLine(x, y+num*step, x+w, y+num*step)\n",
    "\n",
    "app = QApplication([])\n",
    "\n",
    "widgetDraw = QWidgetDraw()\n",
    "widgetDraw.resize(660+40,440+40)\n",
    "widgetDraw.show()\n",
    "\n",
    "app.exec_()"
   ]
  },
  {
   "cell_type": "markdown",
   "metadata": {},
   "source": [
    "qwidgetdraw.h\n",
    "```\n",
    "#ifndef QWIDGETDRAW_H\n",
    "#define QWIDGETDRAW_H\n",
    "\n",
    "#include <QWidget>\n",
    "\n",
    "class QWidgetDraw : public QWidget\n",
    "{\n",
    "    Q_OBJECT\n",
    "public:\n",
    "    explicit QWidgetDraw(QWidget *parent = nullptr);\n",
    "\n",
    "    void draw(QPainter *painter);\n",
    "\n",
    "    void drawDivide(QPainter *painter, int startX, int startY, int width, int hight, int wCnt, int hCnt);\n",
    "    void drawStar(QPainter *painter, int x, int y, int radius, int rotate);\n",
    "\n",
    "private:\n",
    "    void paintEvent(QPaintEvent *event) override;\n",
    "signals:\n",
    "\n",
    "};\n",
    "\n",
    "#endif // QWIDGETDRAW_H\n",
    "\n",
    "```"
   ]
  },
  {
   "cell_type": "markdown",
   "metadata": {},
   "source": [
    "\n",
    "qwidgetdraw.c\n",
    "```\n",
    "#include \"qwidgetdraw.h\"\n",
    "#include <QPaintEvent>\n",
    "#include <QPainter>\n",
    "#include <QtMath>\n",
    "\n",
    "QWidgetDraw::QWidgetDraw(QWidget *parent) : QWidget(parent)\n",
    "{\n",
    "    this->setWindowTitle(\"我们的\");\n",
    "    // 1.2880x1920; 2. 2400x1600; 3. 1920x1280; 4. 1440x960; 5. 960x640; 6. 660x440\n",
    "    this->resize(660+100, 440+100);\n",
    "    // 必须完成todo屏幕上显示团队信息，个人名字/学号\n",
    "    // 必须完成todo界面上显示时间\n",
    "    // 拓展：时间显示用LCDnumber替代QLabel\n",
    "}\n",
    "\n",
    "void QWidgetDraw::paintEvent(QPaintEvent *event)\n",
    "{\n",
    "    QPainter *painter = new QPainter();\n",
    "    // 启动绘图\n",
    "    painter->begin(this);\n",
    "    this->draw(painter);\n",
    "    // 绘图结束\n",
    "    painter->end();\n",
    "}\n",
    "\n",
    "void QWidgetDraw::draw(QPainter *painter)\n",
    "{\n",
    "    int step;\n",
    "    // 配置画笔参数\n",
    "    painter->setPen(QPen(Qt::black, Qt::DashLine));\n",
    "//    painter->setBrush(QBrush(Qt::red, Qt::SolidPattern));\n",
    "    // 画国旗外框\n",
    "    painter->drawRect(50, 50, 660, 440);\n",
    "    // 水平垂直2等分\n",
    "    this->drawDivide(painter, 50, 50, 660, 440, 2, 2);\n",
    "    // 左上角10x15等分\n",
    "    this->drawDivide(painter, 50, 50, 660/2, 440/2, 15, 10);\n",
    "    // 绘制大圆\n",
    "    step = 330/15;\n",
    "    painter->drawEllipse(50 + step*2, 50 + step*2, step*6, step*6);\n",
    "    painter->drawEllipse(50 + step*9, 50 + step*1, step*2, step*2);\n",
    "    // todo\n",
    "    // 必须完成其他4个小圆\n",
    "    // 拓展：画大的五角星\n",
    "}\n",
    "\n",
    "void QWidgetDraw::drawDivide(QPainter *painter, int startX, int startY, int width, int hight, int wCnt, int hCnt)\n",
    "{\n",
    "    int step = width/wCnt;\n",
    "    int cnt = 0;\n",
    "\n",
    "    // 水平方向等分\n",
    "    for(cnt = 0; cnt < wCnt; cnt++)\n",
    "        painter->drawLine(startX+step*cnt, startY, startX+step*cnt, startY+hight);\n",
    "\n",
    "    // 垂直方向等分\n",
    "    step = hight/hCnt;\n",
    "    for(cnt = 0; cnt < hCnt; cnt++)\n",
    "        painter->drawLine(startX, startY+step*cnt, startX+width, startY+step*cnt);\n",
    "}\n",
    "\n",
    "\n",
    "```"
   ]
  },
  {
   "cell_type": "markdown",
   "metadata": {},
   "source": [
    "main.c\n",
    "```\n",
    "#include <QApplication>\n",
    "#include <QWidget>\n",
    "#include <QPainter>\n",
    "#include \"qwidgetdraw.h\"\n",
    "\n",
    "int main(int argc, char * argv[])\n",
    "{\n",
    "    QApplication a(argc, argv);\n",
    "\n",
    "    QWidgetDraw drawWin;\n",
    "    drawWin.show();\n",
    "\n",
    "    return a.exec();\n",
    "}\n",
    "\n",
    "\n",
    "```"
   ]
  },
  {
   "cell_type": "markdown",
   "metadata": {},
   "source": [
    "## 绘制圆形"
   ]
  },
  {
   "cell_type": "markdown",
   "metadata": {},
   "source": [
    "Qt中圆形的绘制是用QPainter的drawEllipse函数实现的，此函数本身绘制椭圆的，但是如果椭圆的宽和高一样的话就是圆了，我们可以在draw函数中将一个大圆和四个小圆一起画出。"
   ]
  },
  {
   "cell_type": "code",
   "execution_count": 1,
   "metadata": {},
   "outputs": [
    {
     "data": {
      "text/plain": [
       "0"
      ]
     },
     "execution_count": 1,
     "metadata": {},
     "output_type": "execute_result"
    }
   ],
   "source": [
    "from PyQt5.QtWidgets import QApplication, QWidget\n",
    "from PyQt5.QtGui import QPainter, QColor\n",
    "from PyQt5.QtCore import QRectF\n",
    "\n",
    "class QWidgetDraw(QWidget):\n",
    "    def __init__(self, parent = None):\n",
    "        super(QWidgetDraw, self).__init__(parent)\n",
    "        \n",
    "    def paintEvent(self, event):\n",
    "        qpainter = QPainter()\n",
    "        qpainter.begin(self)\n",
    "        self.draw(qpainter)\n",
    "        qpainter.end()\n",
    "\n",
    "    def draw(self, qpainter):\n",
    "        qpainter.drawRect(20, 20, 660, 440) # 绘制国旗外边框\n",
    "        \n",
    "        # 矩形四等分，然后左上角矩形做10x15等分\n",
    "        self.drawDivide(qpainter, 20, 20, 2, 2, 660, 440)\n",
    "        self.drawDivide(qpainter, 20, 20, 15, 10, 330, 220)\n",
    "        \n",
    "        # 绘制五角星的同心圆\n",
    "        step = 330/15\n",
    "        qpainter.drawEllipse(20 + step*5, 20 + step*5, step*6, step*6) # 大圆，位于(5,5)格点，半径3个栅格\n",
    "    \n",
    "    # 左上角矩形绘制10x15的分割\n",
    "    # x,y 为起始坐标\n",
    "    # wCnt，hCnt分别是宽高分割份数\n",
    "    # w, h是待分割区域的宽和高\n",
    "    def drawDivide(self, qpainter, x, y, wCnt, hCnt, w, h):\n",
    "        step = w/wCnt\n",
    "        for num in range(wCnt):\n",
    "            qpainter.drawLine(x+num*step, y, x+num*step, y+h)\n",
    "        \n",
    "        step = h/hCnt\n",
    "        for num in range (hCnt):\n",
    "            qpainter.drawLine(x, y+num*step, x+w, y+num*step)\n",
    "\n",
    "app = QApplication([])\n",
    "\n",
    "widgetDraw = QWidgetDraw()\n",
    "widgetDraw.resize(660+40,440+40)\n",
    "widgetDraw.show()\n",
    "\n",
    "app.exec_()"
   ]
  },
  {
   "cell_type": "markdown",
   "metadata": {},
   "source": [
    "绘图发现drawEllipse函数前两个参数并不是圆心所在位置，而是在与圆相切正方形的左上角位置。所以修改代码为:\n",
    "```\n",
    "qpainter.drawEllipse(20 + step*(5-3), 20 + step*(5-3), step*6, step*6) # 大圆，位于(5,5)格点，半径3个栅格\n",
    "qpainter.drawEllipse(20 + step*(10-1), 20 + step*(2-1), step*2, step*2) # 小圆，位于(10,2)格点，半径1个栅格\n",
    "qpainter.drawEllipse(20 + step*(12-1), 20 + step*(4-1), step*2, step*2) # 小圆，位于(12,4)格点，半径1个栅格\n",
    "qpainter.drawEllipse(20 + step*(12-1), 20 + step*(7-1), step*2, step*2) # 小圆，位于(12,7)格点，半径1个栅格\n",
    "qpainter.drawEllipse(20 + step*(10-1), 20 + step*(9-1), step*2, step*2) # 小圆，位于(10,9)格点，半径1个栅格\n",
    "```\n",
    "4颗小星分别位于(10,2),(12,4), (12,7), (10,9)格"
   ]
  },
  {
   "cell_type": "code",
   "execution_count": 1,
   "metadata": {},
   "outputs": [
    {
     "data": {
      "text/plain": [
       "0"
      ]
     },
     "execution_count": 1,
     "metadata": {},
     "output_type": "execute_result"
    }
   ],
   "source": [
    "from PyQt5.QtWidgets import QApplication, QWidget\n",
    "from PyQt5.QtGui import QPainter, QColor\n",
    "from PyQt5.QtCore import QRectF\n",
    "\n",
    "class QWidgetDraw(QWidget):\n",
    "    def __init__(self, parent = None):\n",
    "        super(QWidgetDraw, self).__init__(parent)\n",
    "        \n",
    "    def paintEvent(self, event):\n",
    "        qpainter = QPainter() # 使用新创建的类\n",
    "        qpainter.begin(self)\n",
    "        self.draw(qpainter)\n",
    "        qpainter.end()\n",
    "\n",
    "    def draw(self, qpainter):\n",
    "        qpainter.drawRect(20, 20, 660, 440) # 绘制国旗外边框\n",
    "        \n",
    "        # 矩形四等分，然后左上角矩形做10x15等分\n",
    "        self.drawDivide(qpainter, 20, 20, 2, 2, 660, 440)\n",
    "        self.drawDivide(qpainter, 20, 20, 15, 10, 330, 220)\n",
    "        \n",
    "        # 绘制五角星的同心圆\n",
    "        step = 330/15\n",
    "        qpainter.drawEllipse(20 + step*(5-3), 20 + step*(5-3), step*6, step*6) # 大圆，位于(5,5)格点，半径3个栅格\n",
    "        qpainter.drawEllipse(20 + step*(10-1), 20 + step*(2-1), step*2, step*2) # 小圆，位于(10,2)格点，半径1个栅格\n",
    "        qpainter.drawEllipse(20 + step*(12-1), 20 + step*(4-1), step*2, step*2) # 小圆，位于(12,4)格点，半径1个栅格\n",
    "        qpainter.drawEllipse(20 + step*(12-1), 20 + step*(7-1), step*2, step*2) # 小圆，位于(12,7)格点，半径1个栅格\n",
    "        qpainter.drawEllipse(20 + step*(10-1), 20 + step*(9-1), step*2, step*2) # 小圆，位于(10,9)格点，半径1个栅格\n",
    "    \n",
    "    # 左上角矩形绘制10x15的分割\n",
    "    # x,y 为起始坐标\n",
    "    # wCnt，hCnt分别是宽高分割份数\n",
    "    # w, h是待分割区域的宽和高\n",
    "    def drawDivide(self, qpainter, x, y, wCnt, hCnt, w, h):\n",
    "        step = w/wCnt\n",
    "        for num in range(wCnt):\n",
    "            qpainter.drawLine(x+num*step, y, x+num*step, y+h)\n",
    "        \n",
    "        step = h/hCnt\n",
    "        for num in range (hCnt):\n",
    "            qpainter.drawLine(x, y+num*step, x+w, y+num*step)\n",
    "\n",
    "app = QApplication([])\n",
    "\n",
    "widgetDraw = QWidgetDraw()\n",
    "widgetDraw.resize(660+40,440+40)\n",
    "widgetDraw.show()\n",
    "\n",
    "app.exec_()"
   ]
  },
  {
   "cell_type": "markdown",
   "metadata": {},
   "source": [
    "## 圆心画线"
   ]
  },
  {
   "cell_type": "markdown",
   "metadata": {},
   "source": [
    "获取圆心坐标， 用drawLine函数即可完成绘制斜线"
   ]
  },
  {
   "cell_type": "markdown",
   "metadata": {},
   "source": [
    "## 画五角星"
   ]
  },
  {
   "cell_type": "markdown",
   "metadata": {},
   "source": [
    "五角星会有很多种画法，这里只讨论一种，那就是以圆的半径为高，画一个等边三角形，然后让这个三角形绕圆心旋转4次，实际上就是画5个三角形。这样三角形区域进行填充后画出来的就是五角星了。\n",
    "\n",
    "我们设计一个drawStar函数，入口参数为圆的圆心和圆的半径：已知五角星的5个角的角度为180/5=36，根据三角函数可以计算出三角形三个顶点坐标，假设圆心所在位置为坐标原点。\n",
    "\n",
    "方法：\n",
    "* 根据几何原理计算五角星顶角为36度\n",
    "* 根据五角星所在圆半径计算，三角形底边长度 L= R*tan(pi*36/2/360) * 2\n",
    "* 假定圆心为坐标原点，换算三角形三个点所在坐标[(0, -R), (-L/2, 0), (L/2, 0)]\n",
    "* 配置画笔颜色，画刷颜色\n",
    "* 坐标系做平移、旋转\n",
    "* 绘制三角形\n",
    "* 重复旋转、绘制三角形，完成五角星绘制"
   ]
  },
  {
   "cell_type": "code",
   "execution_count": null,
   "metadata": {},
   "outputs": [],
   "source": [
    "    def drawStar(self, painter, x, y, radius, rotate, fillStyle):\n",
    "        # 三角形顶角的一半\n",
    "        degree = 2*math.pi*(180/10)/360\n",
    "        \n",
    "        # 计算三角形顶点坐标\n",
    "        points = [QPoint(0, -radius), QPoint(-radius*math.tan(degree), 0), QPoint(radius*math.tan(degree), 0)]\n",
    "        \n",
    "        painter.translate(x,y) # 坐标系平移\n",
    "        painter.rotate(rotate) # 坐标系旋转\n",
    "        self.drawTriangle(painter, points, fillStyle) # 绘图\n",
    "        painter.resetTransform() # 坐标系复位\n",
    "        \n",
    "    def drawTriangle(self, painter, points, fillStyle):\n",
    "        painter.drawPolygon(QPolygon(points), fillStyle)"
   ]
  },
  {
   "cell_type": "markdown",
   "metadata": {},
   "source": [
    "`radius*math.tan(degree)`例如正切函数计算直角三角形的另外一边，实际上就是对应的2坐标位置。"
   ]
  },
  {
   "cell_type": "code",
   "execution_count": 1,
   "metadata": {},
   "outputs": [
    {
     "data": {
      "text/plain": [
       "0"
      ]
     },
     "execution_count": 1,
     "metadata": {},
     "output_type": "execute_result"
    }
   ],
   "source": [
    "from PyQt5.QtWidgets import QApplication, QWidget\n",
    "from PyQt5.QtGui import QPainter, QColor, QPolygon\n",
    "from PyQt5.QtCore import QRectF, QPoint, Qt\n",
    "import math\n",
    "\n",
    "class QWidgetDraw(QWidget):\n",
    "    def __init__(self, parent = None):\n",
    "        super(QWidgetDraw, self).__init__(parent)\n",
    "        \n",
    "    def paintEvent(self, event):\n",
    "        qpainter = QPainter() # 使用新创建的类\n",
    "        qpainter.begin(self)\n",
    "        self.draw(qpainter)\n",
    "        qpainter.end()\n",
    "\n",
    "    def draw(self, qpainter):\n",
    "        qpainter.drawRect(20, 20, 660, 440) # 绘制国旗外边框\n",
    "\n",
    "        # 矩形四等分，然后左上角矩形做10x15等分\n",
    "        self.drawDivide(qpainter, 20, 20, 2, 2, 660, 440)\n",
    "        self.drawDivide(qpainter, 20, 20, 15, 10, 330, 220)\n",
    "        \n",
    "        # 绘制五角星的同心圆\n",
    "        step = 330/15\n",
    "        qpainter.drawEllipse(20 + step*(5-3), 20 + step*(5-3), step*6, step*6) # 大圆，位于(5,5)格点，半径3个栅格\n",
    "        qpainter.drawEllipse(20 + step*(10-1), 20 + step*(2-1), step*2, step*2) # 小圆，位于(10,2)格点，半径1个栅格\n",
    "        qpainter.drawEllipse(20 + step*(12-1), 20 + step*(4-1), step*2, step*2) # 小圆，位于(12,4)格点，半径1个栅格\n",
    "        qpainter.drawEllipse(20 + step*(12-1), 20 + step*(7-1), step*2, step*2) # 小圆，位于(12,7)格点，半径1个栅格\n",
    "        qpainter.drawEllipse(20 + step*(10-1), 20 + step*(9-1), step*2, step*2) # 小圆，位于(10,9)格点，半径1个栅格\n",
    "        \n",
    "        # 绘制大五角星\n",
    "        self.drawStar(qpainter, 20 + step*(5), 20 + step*(5), step*3, 0, 0)\n",
    "        \n",
    "\n",
    "    \n",
    "    # 左上角矩形绘制10x15的分割\n",
    "    # x,y 为起始坐标\n",
    "    # wCnt，hCnt分别是宽高分割份数\n",
    "    # w, h是待分割区域的宽和高\n",
    "    def drawDivide(self, qpainter, x, y, wCnt, hCnt, w, h):\n",
    "        step = w/wCnt\n",
    "        for num in range(wCnt):\n",
    "            qpainter.drawLine(x+num*step, y, x+num*step, y+h)\n",
    "        \n",
    "        step = h/hCnt\n",
    "        for num in range (hCnt):\n",
    "            qpainter.drawLine(x, y+num*step, x+w, y+num*step)\n",
    "            \n",
    "    def drawStar(self, painter, x, y, radius, rotate, fillStyle):\n",
    "        # 三角形顶角的一半\n",
    "        degree = 2*math.pi*(180/10)/360\n",
    "        \n",
    "        # 计算三角形顶点坐标\n",
    "        points = [QPoint(0, -radius), QPoint(-radius*math.tan(degree), 0), QPoint(radius*math.tan(degree), 0)]\n",
    "        \n",
    "        # 设置画刷颜色\n",
    "        painter.setBrush(QColor(\"#FAF408\"))\n",
    "        painter.setPen(QColor(\"#FAF408\"));\n",
    "        \n",
    "        # 调整坐标系，并绘制三角形\n",
    "        painter.resetTransform() # 坐标系复位\n",
    "        painter.translate(x,y) # 坐标系平移\n",
    "        painter.rotate(rotate) # 坐标系旋转\n",
    "        self.drawTriangle(painter, points, fillStyle) # 绘图\n",
    "        painter.resetTransform() # 坐标系复位\n",
    "        \n",
    "    def drawTriangle(self, painter, points, fillStyle):\n",
    "        painter.drawPolygon(QPolygon(points), fillStyle)\n",
    "\n",
    "app = QApplication([])\n",
    "\n",
    "widgetDraw = QWidgetDraw()\n",
    "widgetDraw.resize(660+40,440+40)\n",
    "widgetDraw.show()\n",
    "\n",
    "app.exec_()"
   ]
  },
  {
   "cell_type": "markdown",
   "metadata": {},
   "source": [
    "程序运行结果如下如：\n",
    "![](./image/qt_painter_draw_triangle.png)"
   ]
  },
  {
   "cell_type": "markdown",
   "metadata": {},
   "source": [
    "## 任务1. 绘制完整五角星\n",
    "\n",
    "参考答案如下："
   ]
  },
  {
   "cell_type": "code",
   "execution_count": null,
   "metadata": {},
   "outputs": [],
   "source": [
    "    def drawStar(self, painter, x, y, radius, rotate, fillStyle):\n",
    "        degree = 2*math.pi*(180/10)/360\n",
    "        points = [QPoint(0, -radius), QPoint(-radius*math.tan(degree), 0), QPoint(radius*math.tan(degree), 0)] # (0,0)在三角形底边中点，三角形高为radius，三角形顶角为36度\n",
    "        \n",
    "        painter.setBrush(QColor(\"#FAF408\"))\n",
    "        painter.setPen(QColor(\"#FAF408\"));\n",
    "        painter.resetTransform() # 坐标系复位\n",
    "        painter.translate(x,y) # 坐标系平移\n",
    "        painter.rotate(rotate) # 坐标系旋转\n",
    "        for cnt in range(5):\n",
    "            self.drawTriangle(painter, points, fillStyle) # 绘图\n",
    "            painter.rotate(72) # 坐标系旋转\n",
    "        painter.resetTransform() # 坐标系复位"
   ]
  },
  {
   "cell_type": "markdown",
   "metadata": {},
   "source": [
    "## 添加4颗小五角星完成国旗绘制"
   ]
  },
  {
   "cell_type": "markdown",
   "metadata": {},
   "source": [
    "提示：\n",
    "1. 根据三角函数计算小圆与大圆圆心连线与水平方向夹角，此夹角作为`drawStar`函数中入口参数`rotate`的值。\n",
    "2. 国旗旗面红色可在绘制第一个矩形时配置为：painter.setBrush(QColor(\"#F40002\"));\n",
    "\n",
    "参考答案如下："
   ]
  },
  {
   "cell_type": "code",
   "execution_count": 1,
   "metadata": {},
   "outputs": [
    {
     "data": {
      "text/plain": [
       "0"
      ]
     },
     "execution_count": 1,
     "metadata": {},
     "output_type": "execute_result"
    }
   ],
   "source": [
    "from PyQt5.QtWidgets import QApplication, QWidget\n",
    "from PyQt5.QtGui import QPainter, QColor, QPolygon\n",
    "from PyQt5.QtCore import QRectF, QPoint, Qt\n",
    "import math\n",
    "\n",
    "class QWidgetDraw(QWidget):\n",
    "    def __init__(self, parent = None):\n",
    "        super(QWidgetDraw, self).__init__(parent)\n",
    "        \n",
    "    def paintEvent(self, event):\n",
    "        qpainter = QPainter() # 使用新创建的类\n",
    "        qpainter.begin(self)\n",
    "        self.draw(qpainter)\n",
    "        qpainter.end()\n",
    "\n",
    "    def draw(self, qpainter):\n",
    "        # 重绘国旗旗面底色\n",
    "        qpainter.resetTransform() # 坐标系复位\n",
    "        qpainter.setBrush(QColor(\"#F40002\"))\n",
    "        qpainter.setPen(QColor(\"#F40002\"))\n",
    "        qpainter.drawRect(20, 20, 660, 440) # 绘制国旗外边框\n",
    "        qpainter.resetTransform() # 坐标系复位\n",
    "        \n",
    "        # 矩形四等分，然后左上角矩形做10x15等分\n",
    "        self.drawDivide(qpainter, 20, 20, 2, 2, 660, 440)\n",
    "        self.drawDivide(qpainter, 20, 20, 15, 10, 330, 220)\n",
    "        \n",
    "        # 绘制五角星的同心圆\n",
    "        step = 330/15\n",
    "        qpainter.drawEllipse(20 + step*(5-3), 20 + step*(5-3), step*6, step*6) # 大圆，位于(5,5)格点，半径3个栅格\n",
    "        qpainter.drawEllipse(20 + step*(10-1), 20 + step*(2-1), step*2, step*2) # 小圆，位于(10,2)格点，半径1个栅格\n",
    "        qpainter.drawEllipse(20 + step*(12-1), 20 + step*(4-1), step*2, step*2) # 小圆，位于(12,4)格点，半径1个栅格\n",
    "        qpainter.drawEllipse(20 + step*(12-1), 20 + step*(7-1), step*2, step*2) # 小圆，位于(12,7)格点，半径1个栅格\n",
    "        qpainter.drawEllipse(20 + step*(10-1), 20 + step*(9-1), step*2, step*2) # 小圆，位于(10,9)格点，半径1个栅格\n",
    "        \n",
    "        # 绘制大五角星\n",
    "        self.drawStar(qpainter, 20 + step*(5), 20 + step*(5), step*3, 0, 0)\n",
    "        \n",
    "        # 绘制小五角星\n",
    "        self.drawStar(qpainter, 20 + step*(10), 20 + step*(2), step*1, -(90+math.atan(3/5)/math.pi*180), 0)\n",
    "        self.drawStar(qpainter, 20 + step*(12), 20 + step*(4), step*1, -(90+math.atan(1/7)/math.pi*180), 0)\n",
    "        self.drawStar(qpainter, 20 + step*(12), 20 + step*(7), step*1, -(90-math.atan(2/7)/math.pi*180), 0)\n",
    "        self.drawStar(qpainter, 20 + step*(10), 20 + step*(9), step*1, -(90-math.atan(4/5)/math.pi*180), 0)\n",
    "        \n",
    "    # 左上角矩形绘制10x15的分割\n",
    "    # x,y 为起始坐标\n",
    "    # wCnt，hCnt分别是宽高分割份数\n",
    "    # w, h是待分割区域的宽和高\n",
    "    def drawDivide(self, qpainter, x, y, wCnt, hCnt, w, h):\n",
    "        step = w/wCnt\n",
    "        for num in range(wCnt):\n",
    "            qpainter.drawLine(x+num*step, y, x+num*step, y+h)\n",
    "        \n",
    "        step = h/hCnt\n",
    "        for num in range (hCnt):\n",
    "            qpainter.drawLine(x, y+num*step, x+w, y+num*step)\n",
    "            \n",
    "    def drawStar(self, painter, x, y, radius, rotate, fillStyle):\n",
    "        # 三角形顶角的一半\n",
    "        degree = 2*math.pi*(180/10)/360\n",
    "        \n",
    "        # 计算三角形顶点坐标\n",
    "        points = [QPoint(0, -radius), QPoint(-radius*math.tan(degree), 0), QPoint(radius*math.tan(degree), 0)]\n",
    "        \n",
    "        # 设置画刷颜色\n",
    "        painter.setBrush(QColor(\"#FAF408\"))\n",
    "        painter.setPen(QColor(\"#FAF408\"))\n",
    "        \n",
    "        # 调整坐标系，并绘制三角形\n",
    "        painter.resetTransform() # 坐标系复位\n",
    "        painter.translate(x,y) # 坐标系平移\n",
    "        painter.rotate(rotate) # 坐标系旋转\n",
    "        for cnt in range(5):\n",
    "            self.drawTriangle(painter, points, fillStyle) # 绘图\n",
    "            painter.rotate(72) # 坐标系旋转\n",
    "        painter.resetTransform() # 坐标系复位\n",
    "        \n",
    "    def drawTriangle(self, painter, points, fillStyle):\n",
    "        painter.drawPolygon(QPolygon(points), fillStyle)\n",
    "\n",
    "app = QApplication([])\n",
    "\n",
    "widgetDraw = QWidgetDraw()\n",
    "widgetDraw.resize(660+40,440+40)\n",
    "widgetDraw.show()\n",
    "\n",
    "app.exec_()"
   ]
  },
  {
   "cell_type": "code",
   "execution_count": null,
   "metadata": {},
   "outputs": [],
   "source": []
  }
 ],
 "metadata": {
  "kernelspec": {
   "display_name": "Python [conda env:root] *",
   "language": "python",
   "name": "conda-root-py"
  },
  "language_info": {
   "codemirror_mode": {
    "name": "ipython",
    "version": 3
   },
   "file_extension": ".py",
   "mimetype": "text/x-python",
   "name": "python",
   "nbconvert_exporter": "python",
   "pygments_lexer": "ipython3",
   "version": "3.7.0"
  },
  "toc": {
   "base_numbering": 1,
   "nav_menu": {},
   "number_sections": true,
   "sideBar": true,
   "skip_h1_title": false,
   "title_cell": "Table of Contents",
   "title_sidebar": "Contents",
   "toc_cell": false,
   "toc_position": {
    "height": "calc(100% - 180px)",
    "left": "10px",
    "top": "150px",
    "width": "341.333px"
   },
   "toc_section_display": true,
   "toc_window_display": true
  }
 },
 "nbformat": 4,
 "nbformat_minor": 2
}
