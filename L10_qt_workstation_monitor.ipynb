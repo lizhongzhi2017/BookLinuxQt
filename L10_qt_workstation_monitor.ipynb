{
 "cells": [
  {
   "attachments": {},
   "cell_type": "markdown",
   "metadata": {},
   "source": [
    "# 目标：工作站管理平台设计\n",
    "\n",
    "工作站的主要功能是管理、控制所有终端设备。包括查看终端设备的工作状态，配置设备与病人之间的绑定关系，查看病人/设备历史数据。查看设备的实时数据等。\n",
    "\n",
    "工作站所有有几个部分组成：\n",
    "* 人机交互界面：给用户提供设备状态或设备波形的界面，提供对数据修改的窗口。\n",
    "* 设备状态与数据内容：设备状态与本地数据的缓存，数据的增、改、删都会发送在这里\n",
    "* 人机交互和本地数据之间的协调与控制，以及与远程数据库之间的交互：这个部分处于设备数据和人机交互之间，界面上的按钮对设备数据的维护将通过此部分实现，而不直接访问。这样的目的是让数据和界面解耦。同时此部分会与数据库进行交互，承担这整个系统的对外接口。\n",
    "\n",
    "根据分析工作站的核心是设备的数据，所有的操作都是针对这些数据的。例如查看当前设备列表以及设备状态，例如增加设备、删除设备、修改设备的当前用户等都是在访问这些数据。所以我们会把系统拆分为三大类：\n",
    "* 显示部分（显示）：负责数据内容的显示\n",
    "* 数据部分（模型）：创建以设备数据为核心的模型，存储设备数据。这里把数据抽象为模型。\n",
    "* 控制部分（控制）：负责逻辑部分的处理，为显示部分和数据部分提供桥梁当数据改变时及时更新显示，当显示界面修改数据时把修改后的结果写回数据部分，同时实现访问外部数据接口。\n",
    "\n",
    "此种设计方式是典型的[MVC模式](https://baike.baidu.com/item/MVC%E6%A1%86%E6%9E%B6/9241230?fromtitle=mvc&fromid=85990&fr=aladdin)\n",
    "\n",
    "\n",
    "效果图：\n",
    "![](./image/qt_workstation_table_demo.png)\n"
   ]
  },
  {
   "cell_type": "markdown",
   "metadata": {},
   "source": [
    "# 参考\n",
    "\n",
    "https://doc.qt.io/qt-5/model-view-programming.html#model-classes  \n",
    "http://c.biancheng.net/view/1864.html  \n",
    "https://blog.csdn.net/naughfy/article/details/79834849  \n",
    "http://codingdict.com/sources/py/PyQt5.QtGui/10121.html\n",
    "https://www.cnblogs.com/fuqia/p/8908182.html"
   ]
  },
  {
   "cell_type": "markdown",
   "metadata": {},
   "source": [
    "# 创建模型"
   ]
  },
  {
   "cell_type": "markdown",
   "metadata": {},
   "source": [
    "与终端设备相关的数据有：\n",
    "\n",
    "|数据内容|格式|描述|\n",
    "|:----|:----|:----|\n",
    "|编号|32位数字|设备唯一的识别码|\n",
    "|名称|字符串|描述设备的功能|\n",
    "|启用日期|日期|记录设备何时开始使用|\n",
    "|在线状态|布尔型，在线/离线|设备是否在线|\n",
    "|用户|结构体|包含编号、姓名、性别、年龄、电话|\n",
    "|负责人|结构图|维护此设备的编号、姓名、电话|\n",
    "\n",
    "**查看数据**：调用数据查看界面  \n",
    "**查看波形**：调用历史波形/实时波形界面，与设备端界面相同\n"
   ]
  },
  {
   "cell_type": "markdown",
   "metadata": {},
   "source": [
    "## 设计MonitorDevInfo类\n",
    "\n",
    "* 数据存储的单元\n",
    "* 提供数据调用方法，这里可直接使用`user.name`访问病人姓名"
   ]
  },
  {
   "cell_type": "code",
   "execution_count": 1,
   "metadata": {},
   "outputs": [],
   "source": [
    "# 创建模型数据结构\n",
    "\n",
    "class PatientInfo():\n",
    "    def __init__(self, id = 20200701, name = \"小宝\", sex = \"男\", age = 10, tel = \"13734563456\"):\n",
    "        self.id = id\n",
    "        self.name = name\n",
    "        self.sex = sex\n",
    "        self.age = age\n",
    "        self.tel = tel\n",
    "\n",
    "class OwnerInfo():\n",
    "    def __init__(id = 123456, name=\"小花\", tel = \"13734563456\"):\n",
    "        self.ownerId = id\n",
    "        self.ownerName = name\n",
    "        self.ownerTel = tel\n",
    "        \n",
    "class MonitorDevInfo():\n",
    "    def __init__(self,id = 123456789, name = \"DEV_001\", user = None, dept = \"住院部\", \n",
    "                 owner = None):\n",
    "        self.id = id\n",
    "        self.name = name\n",
    "        self.netStatus = False\n",
    "        self.user = user\n",
    "        self.owner = owner"
   ]
  },
  {
   "cell_type": "markdown",
   "metadata": {},
   "source": [
    "## 设计监护设备数据模型\n",
    "\n",
    "* 使用标准模型类作为成员变量\n",
    "* 使用MonitorDevInfo作为最小数据单元\n",
    "\n",
    "作为模型，需要提供数据的添加、删除、修改等功能"
   ]
  },
  {
   "cell_type": "code",
   "execution_count": 2,
   "metadata": {},
   "outputs": [],
   "source": [
    "# 创建模型\n",
    "\n",
    "from PyQt5.QtGui import QStandardItemModel, QStandardItem\n",
    "from PyQt5.QtWidgets import QTableView\n",
    "from PyQt5.QtCore import Qt, QModelIndex\n",
    "\n",
    "class MonitorDevModel(QStandardItemModel):\n",
    "    \n",
    "    def __init__(self, parent= None):\n",
    "        super(MonitorDevModel, self).__init__(parent)\n",
    "        self.itemModel = QStandardItemModel()\n",
    "        self.itemModel.setHorizontalHeaderLabels(['设备编号', '设备型号', '网络状态', '病人编码', '病人姓名'])\n",
    "    \n",
    "    def setView(self, view: QTableView):\n",
    "        view.setModel(self.itemModel)\n",
    "\n",
    "    def addData(self, devInfo: MonitorDevInfo):\n",
    "        # 创建QStandardItem对象\n",
    "        itemDevId = QStandardItem()\n",
    "        itemDevName = QStandardItem()\n",
    "        itemDevNetStatus = QStandardItem()\n",
    "        itemDevUserId = QStandardItem()\n",
    "        itemDevUserName = QStandardItem()\n",
    "        itemDevUserSex = QStandardItem()\n",
    "        itemDevUserAge = QStandardItem()\n",
    "        itemDevUserTel = QStandardItem()\n",
    "        itemDevOwnerId = QStandardItem()\n",
    "        itemDevOwnerName = QStandardItem()\n",
    "        itemDevOwnerTel = QStandardItem()\n",
    "        \n",
    "        itemDevId.setData(devInfo.id, Qt.DisplayRole)\n",
    "        itemDevName.setData(devInfo.name, Qt.DisplayRole)\n",
    "        itemDevUserId.setData(devInfo.user.id, Qt.DisplayRole)\n",
    "        itemDevUserName.setData(devInfo.user.name, Qt.DisplayRole)\n",
    "        # todo other \n",
    "            \n",
    "        # 把创建的对象添加到列表中\n",
    "        self.itemModel.insertRow(self.rowCount(), [itemDevId, itemDevName, itemDevNetStatus, itemDevUserId, itemDevUserName, itemDevUserSex, itemDevUserAge,\n",
    "                             itemDevUserTel, itemDevOwnerId, itemDevOwnerName, itemDevOwnerTel])\n",
    "    \n",
    "    def getData(self, row):\n",
    "        devInfo = MonitorDevInfo()\n",
    "        colCount = self.columnCount()\n",
    "        \n",
    "        if row >= 0 and row < self.rowCount():\n",
    "            for col in range(colCount):\n",
    "                index = self.itemModel.index(row, col, QModelIndex())\n",
    "                value = index.data(Qt.DisplayRole)\n",
    "                \n",
    "                if col == 0:\n",
    "                    devInfo.id = value\n",
    "                # todo\n",
    "                \n",
    "        return devInfo\n",
    "            \n",
    "    def setData(self, row, devInfo: MonitorDevInfo):\n",
    "        # todo\n",
    "        return True\n",
    "        \n",
    "    def removeRow(self, row):\n",
    "        self.itemModel.removeRow(row)\n",
    "        return True\n",
    "    \n",
    "    def clearData(self):\n",
    "        # todo\n",
    "        return True\n",
    "    \n",
    "    def rowCount(self):\n",
    "        return self.itemModel.rowCount()\n",
    "\n",
    "    def colCount(self):\n",
    "        return self.itemModel.columnCount()"
   ]
  },
  {
   "cell_type": "markdown",
   "metadata": {},
   "source": [
    "# 创建显示界面"
   ]
  },
  {
   "cell_type": "code",
   "execution_count": 3,
   "metadata": {},
   "outputs": [],
   "source": [
    "from PyQt5.QtWidgets import QApplication, QWidget, QTableView, QMainWindow, QVBoxLayout\n",
    "\n",
    "class WindowMain(QWidget):\n",
    "    def __init__(self, parent = None):\n",
    "        super(WindowMain, self).__init__(parent)\n",
    "        self.layout = QVBoxLayout()\n",
    "\n",
    "        self.tableView = QTableView()\n",
    "\n",
    "        self.layout.addWidget(self.tableView)\n",
    "        self.setLayout(self.layout)\n",
    "        self.resize(1500, 800)\n",
    "        self.setWindowTitle(\"云监护-工作站\")\n",
    "    \n",
    "    # todo"
   ]
  },
  {
   "cell_type": "markdown",
   "metadata": {},
   "source": [
    "# 创建控制器"
   ]
  },
  {
   "cell_type": "code",
   "execution_count": 4,
   "metadata": {},
   "outputs": [],
   "source": [
    "class Control():\n",
    "    def __init__(self):\n",
    "        self.dataModel = MonitorDevModel()\n",
    "        self.win = WindowMain()\n",
    "        \n",
    "        self.dataModel.setView(self.win.tableView)\n",
    "        \n",
    "        # demo: 增加10行数据\n",
    "        for i in range(10):\n",
    "            info = MonitorDevInfo(id = i, name=\"ECG_%s\"%i, user= PatientInfo(id = i*10, name = \"张三\"))\n",
    "            self.dataModel.addData(info)\n",
    "    \n",
    "    # todo"
   ]
  },
  {
   "cell_type": "code",
   "execution_count": 5,
   "metadata": {},
   "outputs": [],
   "source": [
    "if __name__ == \"__main__\":\n",
    "    app = QApplication([])\n",
    "    \n",
    "    main = Control()\n",
    "    main.win.show()\n",
    "    \n",
    "    app.exec_()"
   ]
  }
 ],
 "metadata": {
  "kernelspec": {
   "display_name": "Python [conda env:root] *",
   "language": "python",
   "name": "conda-root-py"
  },
  "language_info": {
   "codemirror_mode": {
    "name": "ipython",
    "version": 3
   },
   "file_extension": ".py",
   "mimetype": "text/x-python",
   "name": "python",
   "nbconvert_exporter": "python",
   "pygments_lexer": "ipython3",
   "version": "3.7.0"
  },
  "toc": {
   "base_numbering": 1,
   "nav_menu": {},
   "number_sections": true,
   "sideBar": true,
   "skip_h1_title": false,
   "title_cell": "Table of Contents",
   "title_sidebar": "Contents",
   "toc_cell": false,
   "toc_position": {},
   "toc_section_display": true,
   "toc_window_display": false
  }
 },
 "nbformat": 4,
 "nbformat_minor": 2
}
