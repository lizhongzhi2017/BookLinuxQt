{
 "cells": [
  {
   "cell_type": "markdown",
   "metadata": {},
   "source": [
    "# 目标\n",
    "\n",
    "在已有的温度界面把时间显示出来，设计思路：先获取时间内容并用标签显示在指定位置；然后想办法让时间每秒更新一次。 \n",
    "\n",
    "为了让时间定时更新,我们还需要一个定时器,就像每天叫我们起床的闹钟一样,定时去改变显示的时间.\n",
    "\n",
    "![](./image/temp_clock.png)\n",
    "\n",
    "# 知识点\n",
    "\n",
    "* QDateTime类使用\n",
    "* Qtimer类使用\n",
    "* 信号与槽\n",
    "* 自定义类\n",
    "* 自定义信号"
   ]
  },
  {
   "cell_type": "markdown",
   "metadata": {},
   "source": [
    "# 获取时间，并打印\n",
    "\n",
    "查阅资料我们了解到PyQt的时间相关类有:`Qdate`, `QTime`, `QDateTime`,下面先导入时间类"
   ]
  },
  {
   "cell_type": "code",
   "execution_count": 1,
   "metadata": {},
   "outputs": [],
   "source": [
    "# !/usr/bin/python3\n",
    "# -*- coding: utf-8 -*-\n",
    "\n",
    "import sys\n",
    "from PyQt5.QtWidgets import QApplication,  QLabel\n",
    "from PyQt5.QtCore import QDateTime"
   ]
  },
  {
   "cell_type": "code",
   "execution_count": 2,
   "metadata": {},
   "outputs": [
    {
     "name": "stdout",
     "output_type": "stream",
     "text": [
      "PyQt5.QtCore.QDateTime(2020, 6, 27, 22, 24, 36, 373)\n"
     ]
    }
   ],
   "source": [
    "print(QDateTime.currentDateTime())"
   ]
  },
  {
   "cell_type": "markdown",
   "metadata": {},
   "source": [
    "```cpp\n",
    "// C++版本\n",
    "// qDebug提供了便于打印调试的方法\n",
    "// 与C++的cout用法类似\n",
    "// 可以在编译时关闭打印输出，不用修改代码能够直接发布\n",
    "#include <QDebug>\n",
    "qDebug() << \"Hello world\";\n",
    "\n",
    "// QDateTime::currentDateTime() 函数获得当前的时间\n",
    "#include <QDateTime>\n",
    "qDebug() << \"Date:\" << QDateTime::currentDateTime();\n",
    "```\n",
    "\n",
    "↓ 在Qt Creator环境的_应用程序输出_窗格打印\n",
    "![](image/qtc_console_qdebug.png)"
   ]
  },
  {
   "cell_type": "markdown",
   "metadata": {},
   "source": [
    "这个打印结果实际上是`currentDateTime`函数返回数据的打印,可以通`toString`把数据转变为字符串"
   ]
  },
  {
   "cell_type": "code",
   "execution_count": 3,
   "metadata": {},
   "outputs": [
    {
     "name": "stdout",
     "output_type": "stream",
     "text": [
      "<class 'PyQt5.QtCore.QDateTime'>\n"
     ]
    }
   ],
   "source": [
    "clock = QDateTime.currentDateTime() \n",
    "print(type(QDateTime.currentDateTime()))"
   ]
  },
  {
   "cell_type": "code",
   "execution_count": 4,
   "metadata": {},
   "outputs": [
    {
     "name": "stdout",
     "output_type": "stream",
     "text": [
      "周六 6月 27 22:24:36 2020\n",
      "周六 6月 27 22:24:36 2020\n"
     ]
    }
   ],
   "source": [
    "print(QDateTime.currentDateTime().toString())\n",
    "print(clock.toString())"
   ]
  },
  {
   "cell_type": "markdown",
   "metadata": {},
   "source": [
    "上面的日期确实显示出来了,但是格式不是我们想要的,在toString中增加格式"
   ]
  },
  {
   "cell_type": "code",
   "execution_count": 5,
   "metadata": {},
   "outputs": [
    {
     "name": "stdout",
     "output_type": "stream",
     "text": [
      "2020-06-27T22:24:36\n",
      "2020年6月27日 22:24:36\n",
      "2020-06-27 22:24:36 星期六\n"
     ]
    }
   ],
   "source": [
    "from PyQt5.QtCore import Qt \n",
    "print(clock.toString(Qt.ISODate))\n",
    "print(clock.toString(Qt.DefaultLocaleLongDate))\n",
    "print(clock.toString(\"yyyy-MM-dd hh:mm:ss dddd\")) #自定义格式显示时间"
   ]
  },
  {
   "cell_type": "markdown",
   "metadata": {},
   "source": [
    "我们再看看`Qdate`和`QTime`的使用."
   ]
  },
  {
   "cell_type": "code",
   "execution_count": 6,
   "metadata": {},
   "outputs": [
    {
     "name": "stdout",
     "output_type": "stream",
     "text": [
      "周六 6月 27 2020\n",
      "2020-06-27\n",
      "22:24:36\n",
      "22:24:36\n"
     ]
    }
   ],
   "source": [
    "# !/usr/bin/python3\n",
    "# -*- coding: utf-8 -*-\n",
    "\n",
    "import sys\n",
    "from PyQt5.QtWidgets import QApplication,  QLabel\n",
    "from PyQt5.QtCore import QDate, QTime\n",
    "\n",
    "print(QDate.currentDate().toString())\n",
    "print(QDate.currentDate().toString(Qt.ISODate))\n",
    "print(QTime.currentTime().toString())\n",
    "print(QTime.currentTime().toString(Qt.ISODate))"
   ]
  },
  {
   "cell_type": "markdown",
   "metadata": {},
   "source": [
    "可以发现,QDateTime = QDate + QTime"
   ]
  },
  {
   "cell_type": "markdown",
   "metadata": {},
   "source": [
    "# 将时间显示在窗口左下角\n",
    "\n",
    "先在空白的窗口上显示时间数据进行测试,重要是配置显示位置,字体大小,标签尺寸"
   ]
  },
  {
   "cell_type": "code",
   "execution_count": 7,
   "metadata": {},
   "outputs": [],
   "source": [
    "# !/usr/bin/python3\n",
    "# -*- coding: utf-8 -*-\n",
    "\n",
    "import sys\n",
    "from PyQt5.QtWidgets import QApplication, QWidget, QLabel\n",
    "from PyQt5.QtGui import QFont\n",
    "from PyQt5.QtCore import QDateTime\n",
    "\n",
    "app = QApplication([])\n",
    "widgetMainWindow = QWidget()\n",
    "widgetMainWindow.setWindowTitle(\"温度\") #修改标题内容\n",
    "widgetMainWindow.resize(250,150) #修改窗口大小\n",
    "widgetMainWindow.setStyleSheet(\"background-color: black\") #修改窗体背景颜色\n",
    "\n",
    "labelClock = QLabel()\n",
    "currentClock = QDateTime.currentDateTime()\n",
    "labelClock.setText(currentClock.toString(\"yyyy-MM-dd hh:mm:ss dddd\"))\n",
    "labelClock.setParent(widgetMainWindow)"
   ]
  },
  {
   "cell_type": "code",
   "execution_count": 8,
   "metadata": {},
   "outputs": [],
   "source": [
    "labelClock.setFont(QFont(\"Microsoft YaHei\",10)) # 字体不需要很大\n",
    "labelClock.setStyleSheet(\"background-color: white;color:rgb(255,0,255,255)\") # 修改背景为白色,方便确认布局\n",
    "labelClock.setGeometry(0, 120, 250, 30) # 左下角起始位置为0,120, 长250,高30"
   ]
  },
  {
   "cell_type": "code",
   "execution_count": 9,
   "metadata": {},
   "outputs": [
    {
     "data": {
      "text/plain": [
       "0"
      ]
     },
     "execution_count": 9,
     "metadata": {},
     "output_type": "execute_result"
    }
   ],
   "source": [
    "widgetMainWindow.show()\n",
    "app.exec_()"
   ]
  },
  {
   "cell_type": "markdown",
   "metadata": {},
   "source": [
    "```cpp\n",
    "// C++版本\n",
    "#include <QString>\n",
    "// 定义一个QLabel的子类\n",
    "// 为什么要新定义？\n",
    "// 功能复杂，却又比较独立，因此进行封装\n",
    "class QLabelClock: public QLabel\n",
    "{\n",
    "private:\n",
    "    QString now()\n",
    "    {\n",
    "        return QDateTime::currentDateTime().toString(\"yyyy-MM-dd hh:mm:ss dddd\");\n",
    "    }\n",
    "public:\n",
    "    QLabelClock(QWidget* parent):\n",
    "        QLabel(parent)\n",
    "    {\n",
    "        this->setText(now());\n",
    "    }\n",
    "};\n",
    "\n",
    "// ... main函数内部\n",
    "// 在主窗口上增加一个时钟控件\n",
    "    QLabelClock *labelClock = new QLabelClock(&w);\n",
    "// 一定要放在窗口的show之前，原因后续再解释\n",
    "    w.show();\n",
    "```"
   ]
  },
  {
   "cell_type": "markdown",
   "metadata": {},
   "source": [
    "# 函数封装\n",
    "\n",
    "当我们要把温度显示部分增加进来的时候发现,代码写的好长了,看起来也有点费力.不过我们知道的是哪些行是干什么的,例如上面新添加的`labelClock`相关的代码就是时间显示相关的,之前温度显示部分的代码是与温度有关的即便当时设计了3个标签.而`QApplication`, `QWidget`和`app.exec_`是基础平台相关的.所以我们可以把代码分为三个部分,也就是三个函数:"
   ]
  },
  {
   "cell_type": "code",
   "execution_count": 10,
   "metadata": {},
   "outputs": [],
   "source": [
    "# !/usr/bin/python3\n",
    "# -*- coding: utf-8 -*-\n",
    "\n",
    "import sys\n",
    "from PyQt5.QtWidgets import QApplication, QWidget, QLabel\n",
    "from PyQt5.QtGui import QFont\n",
    "from PyQt5.QtCore import QDateTime, QTimer\n",
    "\n",
    "# 温度显示函数\n",
    "def tempDisplay(parent): \n",
    "    labelTemperatureText = QLabel()\n",
    "    labelTemperatureText.setText(\"T-\")\n",
    "    labelTemperatureText.setFont(QFont(\"Microsoft YaHei\",15))\n",
    "    labelTemperatureText.setStyleSheet(\"background-color: black;color:rgb(255,0,255,255)\")\n",
    "    labelTemperatureText.setGeometry(0, 50, 50, 50)\n",
    "\n",
    "    labelTemperatureData = QLabel()\n",
    "    labelTemperatureData.setText(\"36.5\")\n",
    "    labelTemperatureData.setFont(QFont(\"Microsoft YaHei\",45))\n",
    "    labelTemperatureData.setStyleSheet(\"background-color: black;color:rgb(255,0,255,255)\")\n",
    "    labelTemperatureData.setGeometry(50, 0, 150, 150)\n",
    "\n",
    "    labelTemperatureSymbol = QLabel()\n",
    "    labelTemperatureSymbol.setText(\"\\260C\")\n",
    "    labelTemperatureSymbol.setFont(QFont(\"Microsoft YaHei\",15))\n",
    "    labelTemperatureSymbol.setStyleSheet(\"background-color: black;color:rgb(255,0,255,255)\")\n",
    "    labelTemperatureSymbol.setGeometry(200, 0, 50, 50)\n",
    "    \n",
    "    if parent is not None:\n",
    "        labelTemperatureSymbol.setParent(parent)\n",
    "        labelTemperatureData.setParent(parent)\n",
    "        labelTemperatureText.setParent(parent)\n",
    "\n",
    "# 时间显示函数\n",
    "def clockDisplay(parent):\n",
    "    labelClock = QLabel()\n",
    "    currentClock = QDateTime.currentDateTime()\n",
    "    labelClock.setText(currentClock.toString(\"yyyy-MM-dd hh:mm:ss dddd\"))\n",
    "    labelClock.setFont(QFont(\"Microsoft YaHei\",10))\n",
    "    labelClock.setStyleSheet(\"background-color: black; color: white\")\n",
    "    labelClock.setGeometry(0, 120, 250, 30)\n",
    "    \n",
    "    if parent is not None:\n",
    "        labelClock.setParent(parent)\n",
    "        \n",
    "# 主函数\n",
    "def main():\n",
    "    app = QApplication([])\n",
    "    \n",
    "    widgetMainWindow = QWidget()\n",
    "    widgetMainWindow.setWindowTitle(\"温度\") #修改标题内容\n",
    "    widgetMainWindow.resize(250,150) #修改窗口大小\n",
    "    widgetMainWindow.setStyleSheet(\"background-color: black\") #修改窗体背景颜色\n",
    "    \n",
    "    tempDisplay(widgetMainWindow)\n",
    "    clockDisplay(widgetMainWindow)\n",
    "    \n",
    "    widgetMainWindow.show()\n",
    "\n",
    "    app.exec_()\n",
    "\n",
    "main()\n"
   ]
  },
  {
   "cell_type": "markdown",
   "metadata": {},
   "source": [
    "# 让时间自动更新"
   ]
  },
  {
   "cell_type": "markdown",
   "metadata": {},
   "source": [
    "时间的自动更新需要用到定时器，就是让时间每秒钟更新一次。定时时间到的时候执行一个更新时间的函数即可，实际上定时时间和更新时间是2个不同的事情，那么QT中是如何让这两个事情联系起来的呢？ 很快想到了回调函数，查资料时又发现了信号\\槽机制，这里面有什么区别呢？ 我们请教了公司的大牛。\n",
    "\n",
    "大牛听了我的问题后，喝了一口咖啡，说：“你知道回调函数吧” \n",
    "\n",
    "我：“知道，回调函数就是一个通过函数指针调用的函数。如果你把函数的指针（地址）作为参数传递给另一个函数，当这个指针被用来调用其所指向的函数时，我们就说这是回调函数。回调函数不是由该函数的实现方直接调用，而是在特定的事件或条件发生时由另外的一方调用的，用于对该事件或条件进行响应。” 这是我请教大牛之前百度过的\n",
    "\n",
    "大牛：“嗯，看来你还做过一些研究，那就好说了，回调函数的本质是把调用者和被调用这分开，即解耦。 借用别人的总计'你想让别人的代码执行你的代码，而别人的代码你是不能动的'， 如果同一个事件发生时需要调用多个回调函数，那么就需要维护一个列表， 并且每一个事件都需要维护这样的列表，这种情况下效率就会很低，调用者与被调用者的解耦程度不够” \n",
    "\n",
    "大牛：“qt中为了解决这个问题，设计了信号与槽机制， 编程时只需要绑定信号(事件)和槽函数(等价于回调函数)， 当信号函数执行时，qt会找到并执行与其绑定的槽函数， 并且qt允许一个信号绑定多个槽函数。注意这里说的是qt会自动完成匹配，而不需要编程者维护任何列表。 信号与槽机制降低了qt对象的耦合度。” \n",
    "\n",
    "大牛：“所以这里有好用的信号与槽机制，为什么不用呢。不过我要提醒的一点是因为qt进行了一层封装，因此执行效率上可能会有些影响，不过以目前处理器的速度来说区别只是几个微妙，可忽略的。” \n",
    "\n",
    "我：“所以我把定时器时间到之类的信号和时间刷新函数之间进行绑定就可以了是吗？” 本着有机会就多问点，我说出了自己理解\n",
    "\n",
    "大牛：“没错，看来你已经理解了信号与槽的关键，再去尝试下就能掌握这个技能了” \n",
    "\n",
    "我：“刚才您提到信号与槽机制降低了QT对象的耦合度，那么是不是说这个机制是用在对象之间的？” \n",
    "\n",
    "大牛：“没错，你可以通过调用 QObject 对象的 connect 函数来将某个对象的信号与另外一个对象的槽函数相关联，这样当发射者发射信号时，接收者的槽函数将被调用。” "
   ]
  },
  {
   "cell_type": "markdown",
   "metadata": {},
   "source": [
    "经过大牛的指点，我们豁然开朗。为了不引入新的问题，暂时不添加温度显示部分内容进行研究。我们需要用到是定时器的信号，因此connect连接的一个对象是定时器，另一对象就是我们的界面上的时钟了，所以这里需要先创建一个时钟窗口类如下：\n",
    "\n",
    "## 自定义类WinClock"
   ]
  },
  {
   "cell_type": "code",
   "execution_count": 1,
   "metadata": {},
   "outputs": [],
   "source": [
    "# !/usr/bin/python3\n",
    "# -*- coding: utf-8 -*-\n",
    "\n",
    "import sys\n",
    "from PyQt5.QtWidgets import QApplication, QWidget, QLabel\n",
    "from PyQt5.QtGui import QFont\n",
    "from PyQt5.QtCore import QDateTime, QTimer\n",
    "\n",
    "class WinClock():\n",
    "    def __init__(self,parent): # 这个初始化函数在类的实例化时会被自动调用\n",
    "        self.labelClock = QLabel()\n",
    "        self.labelClock.setFont(QFont(\"Microsoft YaHei\",10))\n",
    "        self.labelClock.setStyleSheet(\"background-color: black;color:white\")\n",
    "        self.labelClock.setGeometry(0, 120, 250, 30)\n",
    "        if parent is not None:\n",
    "            self.labelClock.setParent(parent)\n",
    "\n",
    "    def slotClockUpdate(self):  # 更新时钟槽函数\n",
    "        datatime = QDateTime.currentDateTime()\n",
    "        self.labelClock.setText(datatime.toString(\"yyyy-MM-dd hh:mm:ss dddd\")) # 修改显示内容\n",
    "    "
   ]
  },
  {
   "cell_type": "markdown",
   "metadata": {},
   "source": [
    "上面定义了一个QTimer对象，定义了一个`slotClockUpdate`函数，然后使用self.timer.timeout.connect(self.slotClockUpdate)把两者建立连接。  \n",
    "有规定类名称的首字母大写，例如QWidget，QTimer等都是采用这样的规则，这个规则是为了让代码可读性更好，解释器并不会因为是小写字母而报错或执行错误。\n",
    "> 规定代码中类名称首字母大写，且使用驼峰命名风格，私类下划线开头"
   ]
  },
  {
   "cell_type": "code",
   "execution_count": 2,
   "metadata": {},
   "outputs": [],
   "source": [
    "def main():\n",
    "    app = QApplication([])\n",
    "    widgetMainWindow = QWidget()\n",
    "    widgetMainWindow.setWindowTitle(\"温度\") #修改标题内容\n",
    "    widgetMainWindow.resize(250,150) #修改窗口大小\n",
    "    widgetMainWindow.setStyleSheet(\"background-color: black\") #修改窗体背景颜色\n",
    "    \n",
    "    clockDisplay = WinClock(widgetMainWindow)\n",
    "    \n",
    "    timer = QTimer()\n",
    "    timer.start(1000) # 定时器周期为1000ms\n",
    "    timer.timeout.connect(clockDisplay.slotClockUpdate) # timer的timeout信号与clock_display的槽函数slot_clock_update进行绑定\n",
    "\n",
    "    widgetMainWindow.show()\n",
    "\n",
    "    app.exec_()\n",
    "\n",
    "main()\n"
   ]
  },
  {
   "cell_type": "markdown",
   "metadata": {},
   "source": [
    "上面代码中实现的是定时器与时钟显示的槽函数绑定的方法。为了代码让时钟显示代码更加收敛，我们可以吧定时器的实例化和绑定过程与WinClock的实例化过程进行合并。因为WinClock类中的`__init__`函数在实例化过程中会被自动调用，那么我们同样可以把timer相关代码放到这个函数中。"
   ]
  },
  {
   "cell_type": "code",
   "execution_count": 1,
   "metadata": {},
   "outputs": [],
   "source": [
    "# !/usr/bin/python3\n",
    "# -*- coding: utf-8 -*-\n",
    "\n",
    "import sys\n",
    "from PyQt5.QtWidgets import QApplication, QWidget, QLabel\n",
    "from PyQt5.QtGui import QFont\n",
    "from PyQt5.QtCore import QDateTime, QTimer\n",
    "\n",
    "class WinClock():\n",
    "    def __init__(self,parent): # 这个初始化函数在类的实例化时会被自动调用\n",
    "        self.labelClock = QLabel()\n",
    "        self.labelClock.setFont(QFont(\"Microsoft YaHei\",10))\n",
    "        self.labelClock.setStyleSheet(\"background-color: black;color:white\")\n",
    "        self.labelClock.setGeometry(0, 120, 250, 30)\n",
    "        if parent is not None:\n",
    "            self.labelClock.setParent(parent)\n",
    "\n",
    "        self.timer = QTimer() # 实例定时器对象\n",
    "        self.timer.timeout.connect(self.slotClockUpdate) # 实例对象与当前类中的槽函数进行绑定\n",
    "        self.timer.start(1000)\n",
    "\n",
    "    def slotClockUpdate(self):  # 更新时钟槽函数\n",
    "        datatime = QDateTime.currentDateTime()\n",
    "        self.labelClock.setText(datatime.toString(\"yyyy-MM-dd hh:mm:ss dddd\")) # 修改显示内容\n",
    "        \n",
    "def main():\n",
    "    app = QApplication([])\n",
    "    widgetMainWindow = QWidget()\n",
    "    widgetMainWindow.setWindowTitle(\"温度\") #修改标题内容\n",
    "    widgetMainWindow.resize(250,150) #修改窗口大小\n",
    "    widgetMainWindow.setStyleSheet(\"background-color: black\") #修改窗体背景颜色\n",
    "    \n",
    "    clockDisplay = WinClock(widgetMainWindow)\n",
    "\n",
    "    widgetMainWindow.show()\n",
    "\n",
    "    app.exec_()\n",
    "\n",
    "main()"
   ]
  },
  {
   "cell_type": "markdown",
   "metadata": {},
   "source": [
    "```cpp\n",
    "// C++版本\n",
    "#include <QTimer>\n",
    "//在class定义内部增加一个定时器\n",
    "QTimer *t;\n",
    "//响应定时器事件的槽函数\n",
    "void refresh()\n",
    "{\n",
    "    this->setText(now());\n",
    "}\n",
    "\n",
    "//构造函数内部\n",
    "//实例化定时器\n",
    "t = new QTimer(parent);\n",
    "//连接信号和槽\n",
    "//定时器每隔若干毫秒，产生一次信号（事件）\n",
    "//connect设定了信号与响应的槽函数之间的关系\n",
    "//即每次触发信号，refresh函数被调用一次\n",
    "connect(t, &QTimer::timeout, this, &QLabelClock::refresh);\n",
    "t->start(1000);  //设定周期为1000毫秒，即1秒\n",
    "```\n",
    "\n",
    "可以看到，时钟不停刷新"
   ]
  },
  {
   "cell_type": "markdown",
   "metadata": {},
   "source": [
    "# 完成代码"
   ]
  },
  {
   "cell_type": "code",
   "execution_count": 1,
   "metadata": {},
   "outputs": [],
   "source": [
    "# !/usr/bin/python3\n",
    "# -*- coding: utf-8 -*-\n",
    "\n",
    "import sys\n",
    "from PyQt5.QtWidgets import QApplication, QWidget, QLabel\n",
    "from PyQt5.QtGui import QFont\n",
    "from PyQt5.QtCore import QDateTime, QTimer\n",
    "\n",
    "# 温度显示函数\n",
    "def tempDisplay(parent): \n",
    "    labelTemperatureText = QLabel()\n",
    "    labelTemperatureText.setText(\"T-\")\n",
    "    labelTemperatureText.setFont(QFont(\"Microsoft YaHei\",15))\n",
    "    labelTemperatureText.setStyleSheet(\"background-color: black;color:rgb(255,0,255,255)\")\n",
    "    labelTemperatureText.setGeometry(0, 50, 50, 50)\n",
    "\n",
    "    labelTemperatureData = QLabel()\n",
    "    labelTemperatureData.setText(\"36.5\")\n",
    "    labelTemperatureData.setFont(QFont(\"Microsoft YaHei\",45))\n",
    "    labelTemperatureData.setStyleSheet(\"background-color: black;color:rgb(255,0,255,255)\")\n",
    "    labelTemperatureData.setGeometry(50, 0, 150, 150)\n",
    "\n",
    "    labelTemperatureSymbol = QLabel()\n",
    "    labelTemperatureSymbol.setText(\"\\260C\")\n",
    "    labelTemperatureSymbol.setFont(QFont(\"Microsoft YaHei\",15))\n",
    "    labelTemperatureSymbol.setStyleSheet(\"background-color: black;color:rgb(255,0,255,255)\")\n",
    "    labelTemperatureSymbol.setGeometry(200, 0, 50, 50)\n",
    "    \n",
    "    if parent is not None:\n",
    "        labelTemperatureSymbol.setParent(parent)\n",
    "        labelTemperatureData.setParent(parent)\n",
    "        labelTemperatureText.setParent(parent)\n",
    "\n",
    "class WinClock():\n",
    "    def __init__(self,parent): \n",
    "        self.labelClock = QLabel()\n",
    "        self.labelClock.setFont(QFont(\"Microsoft YaHei\",10))\n",
    "        self.labelClock.setStyleSheet(\"background-color: black;color:white\")\n",
    "        self.labelClock.setGeometry(0, 120, 250, 30)\n",
    "        if parent is not None:\n",
    "            self.labelClock.setParent(parent)\n",
    "\n",
    "        self.timer = QTimer() # 实例定时器对象\n",
    "        self.timer.timeout.connect(self.slotClockUpdate) # 实例对象与当前类中的槽函数进行绑定\n",
    "        self.timer.start(1000)\n",
    "\n",
    "    def slotClockUpdate(self):  # 更新时钟槽函数\n",
    "        datatime = QDateTime.currentDateTime()\n",
    "        self.labelClock.setText(datatime.toString(\"yyyy-MM-dd hh:mm:ss dddd\")) # 修改显示内容\n",
    "    \n",
    "        \n",
    "# 主函数\n",
    "def main():\n",
    "    app = QApplication([])\n",
    "    \n",
    "    widgetMainWindow = QWidget()\n",
    "    widgetMainWindow.setWindowTitle(\"温度\") #修改标题内容\n",
    "    widgetMainWindow.resize(250,150) #修改窗口大小\n",
    "    widgetMainWindow.setStyleSheet(\"background-color: black\") #修改窗体背景颜色\n",
    "    \n",
    "    tempDisplay(widgetMainWindow)\n",
    "    clock = WinClock(widgetMainWindow)\n",
    "    \n",
    "    widgetMainWindow.show()\n",
    "\n",
    "    app.exec_()\n",
    "\n",
    "main()\n"
   ]
  },
  {
   "cell_type": "markdown",
   "metadata": {},
   "source": [
    "# 挑战游戏设计与实现\n",
    "\n",
    "游戏规则是这样的：\n",
    "* 窗口会显示时钟，并且时钟需显示毫秒\n",
    "* 鼠标单击时钟后停止走时，再次单击继续走时\n",
    "* 挑战的任务是：通过按钮让时钟停在000毫秒, 对手是自己\n",
    "\n"
   ]
  },
  {
   "cell_type": "markdown",
   "metadata": {},
   "source": [
    "如和让一个标签支持按键功能呢。QLabel本身并不支持鼠标功能，因此需要继承QLabel重新创建一个类实现这个功能。原理鼠标按下后会给Qt产生一个鼠标按下时间，新建标签类支持按键事件处理方法/函数，函数中实现按键事件检测，如果是鼠标左键释放按键，则说明有鼠标单击发生，此时通过emit方法发出一个信号。在时间显示类中使用新创建的类显示时间，然后增加槽函数与单击事件绑定即可。"
   ]
  },
  {
   "cell_type": "code",
   "execution_count": 1,
   "metadata": {},
   "outputs": [],
   "source": [
    "from PyQt5.QtWidgets import QApplication, QWidget, QLabel\n",
    "from PyQt5.QtCore import pyqtSignal\n",
    "\n",
    "class ClickableLabel(QLabel):\n",
    "    clicked = pyqtSignal() # 创建一个信号\n",
    "    \n",
    "    def mousePressEvent(self, QMouseEvent): # 鼠标按下事件处理函数\n",
    "        if QMouseEvent.button() == Qt.LeftButton: # 确认是鼠标左键\n",
    "            self.clicked.emit() # 触发信号函数，执行后会触发与其绑定的槽函数的执行"
   ]
  },
  {
   "cell_type": "markdown",
   "metadata": {},
   "source": [
    "这里是一个很简单的自定义信号的实现，pyqtSignal类创建了一个信号对象clicked，这个对象可通过函数emit发射一个信号。\n",
    "\n",
    "这信号与定时器中的timeout是一样的。当信号发出qt底层会自动执行与之绑定的槽函数。"
   ]
  },
  {
   "cell_type": "code",
   "execution_count": 3,
   "metadata": {},
   "outputs": [],
   "source": [
    "# !/usr/bin/python3\n",
    "# -*- coding: utf-8 -*-\n",
    "import sys\n",
    "from PyQt5.QtWidgets import QApplication, QWidget, QLabel\n",
    "from PyQt5.QtGui import QFont\n",
    "from PyQt5.QtCore import QDateTime, QTimer, Qt, pyqtSignal\n",
    "\n",
    "class ClickableLabel(QLabel):\n",
    "    clicked = pyqtSignal() # 创建一个信号\n",
    "    \n",
    "    def mousePressEvent(self, QMouseEvent): # 鼠标按下事件处理函数\n",
    "        if QMouseEvent.button() == Qt.LeftButton: # 确认是鼠标左键\n",
    "            self.clicked.emit() # 触发信号函数，执行后会触发与其绑定的槽函数的执行\n",
    "\n",
    "class GameClock():\n",
    "    def __init__(self, parent=None): \n",
    "        self.labelClock = ClickableLabel()\n",
    "        self.labelClock.setWindowTitle(\"ClockGame\")\n",
    "        self.labelClock.setFont(QFont(\"Microsoft YaHei\",10))\n",
    "        self.labelClock.setStyleSheet(\"background-color: black;color:white\")\n",
    "        self.labelClock.resize(300, 30)\n",
    "        self.labelClock.show()\n",
    "        self.clockUpdateEn = 1;\n",
    "        if parent is not None:\n",
    "            self.labelClock.setParent(parent)\n",
    "\n",
    "        self.timer = QTimer() # 实例定时器对象\n",
    "        self.timer.timeout.connect(self.slot_clock_update) # 实例对象与当前类中的槽函数进行绑定\n",
    "        self.timer.start(1) # 需要每毫秒刷新一次\n",
    "        \n",
    "        self.labelClock.clicked.connect(self.slot_mouse_clicked) # 绑定标签鼠标单击信号的槽函数\n",
    "\n",
    "    def slot_clock_update(self):  # 更新时钟槽函数\n",
    "        if self.clockUpdateEn == 1:\n",
    "            datatime = QDateTime.currentDateTime()\n",
    "            self.labelClock.setText(datatime.toString(\"yyyy-MM-dd hh:mm:ss.zzz\")) # 修改显示内容\n",
    "    \n",
    "    def slot_mouse_clicked(self): # 鼠标单击事件处理槽函数\n",
    "        if self.clockUpdateEn != 0:\n",
    "            self.clockUpdateEn = 0\n",
    "        else:\n",
    "            self.clockUpdateEn = 1\n",
    "        \n",
    "# 主函数\n",
    "def main():\n",
    "    app = QApplication([])\n",
    "\n",
    "    clock_display = GameClock()\n",
    "\n",
    "    app.exec_()\n",
    "\n",
    "main()"
   ]
  },
  {
   "cell_type": "markdown",
   "metadata": {},
   "source": [
    "# 任务1\n",
    "\n",
    "* 将温度显示部分封装为类\n",
    "* 使用信号与槽机制，使用定时器使温度值在36.0-37.9度之间循环变化，每0.5s步进0.1度"
   ]
  },
  {
   "cell_type": "markdown",
   "metadata": {},
   "source": [
    "# 任务2\n",
    "\n",
    "* 使用信号与槽机制更新时间，同时更新显示样式：时钟字体颜色：红、黄、蓝循环显示\n",
    "* 一个信号触发2个槽函数\n",
    "* 研究LCDnumber控件，并显示时钟\n",
    "* 扩展任务，实现挑战游戏\n",
    "效果：\n",
    "![](./image/LCDNumber_demo.png)"
   ]
  },
  {
   "cell_type": "code",
   "execution_count": 1,
   "metadata": {},
   "outputs": [],
   "source": [
    "# !/usr/bin/python3\n",
    "# -*- coding: utf-8 -*-\n",
    "\n",
    "import sys\n",
    "from PyQt5.QtWidgets import QApplication, QLCDNumber\n",
    "from PyQt5.QtCore import QDateTime, QTimer\n",
    "\n",
    "class WinClock():\n",
    "    def __init__(self): \n",
    "        self.lcdClock = QLCDNumber()\n",
    "        self.lcdClock.setWindowTitle(\"Clock\")\n",
    "        self.lcdClock.setGeometry(200, 200, 500, 150)\n",
    "        self.lcdClock.setDigitCount(20)\n",
    "        self.lcdClock.setSegmentStyle(QLCDNumber.Flat)\n",
    "        self.lcdClock.setStyleSheet(\"background-color: white;color:white\")\n",
    "        self.lcdClock.show()\n",
    "        self.style = 0\n",
    "\n",
    "        self.timer = QTimer() # 实例定时器对象\n",
    "        self.timer.timeout.connect(self.slotClockUpdate) # 实例对象与当前类中的槽函数进行绑定\n",
    "        self.timer.timeout.connect(self.slotClockStyle) # 实例对象与当前类中的槽函数进行绑定\n",
    "        self.timer.start(1000)\n",
    "\n",
    "    def slotClockUpdate(self):  # 更新时钟槽函数\n",
    "        datatime = QDateTime.currentDateTime()\n",
    "        self.lcdClock.display(datatime.toString(\"yyyy-MM-dd hh:mm:ss\")) # 修改显示内容\n",
    "        \n",
    "    def slotClockStyle(self):  # 更新显示样式槽函数\n",
    "        if self.style == 0:\n",
    "            self.lcdClock.setStyleSheet(\"background-color: white;color:red\")\n",
    "            self.style = self.style + 1\n",
    "        elif self.style == 1:\n",
    "            self.lcdClock.setStyleSheet(\"background-color: white;color:green\")\n",
    "            self.style = self.style + 1\n",
    "        elif self.style == 2:\n",
    "            self.lcdClock.setStyleSheet(\"background-color: white;color:blue\")\n",
    "            self.style = 0\n",
    "        else:\n",
    "            self.style = 0\n",
    "    \n",
    "# 主函数\n",
    "def main():\n",
    "    app = QApplication([])\n",
    "\n",
    "    clockDisplay = WinClock()\n",
    "\n",
    "    app.exec_()\n",
    "\n",
    "main()\n"
   ]
  },
  {
   "cell_type": "code",
   "execution_count": null,
   "metadata": {},
   "outputs": [],
   "source": []
  },
  {
   "cell_type": "code",
   "execution_count": null,
   "metadata": {},
   "outputs": [],
   "source": []
  }
 ],
 "metadata": {
  "kernelspec": {
   "display_name": "Python [conda env:root] *",
   "language": "python",
   "name": "conda-root-py"
  },
  "language_info": {
   "codemirror_mode": {
    "name": "ipython",
    "version": 3
   },
   "file_extension": ".py",
   "mimetype": "text/x-python",
   "name": "python",
   "nbconvert_exporter": "python",
   "pygments_lexer": "ipython3",
   "version": "3.7.0"
  },
  "toc": {
   "base_numbering": 1,
   "nav_menu": {},
   "number_sections": true,
   "sideBar": true,
   "skip_h1_title": false,
   "title_cell": "Table of Contents",
   "title_sidebar": "Contents",
   "toc_cell": false,
   "toc_position": {
    "height": "calc(100% - 180px)",
    "left": "10px",
    "top": "150px",
    "width": "165px"
   },
   "toc_section_display": true,
   "toc_window_display": true
  }
 },
 "nbformat": 4,
 "nbformat_minor": 2
}
