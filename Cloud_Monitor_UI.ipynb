{
 "cells": [
  {
   "cell_type": "markdown",
   "metadata": {},
   "source": [
    "# 项目背景\n",
    "\n",
    "此项目源于真实工程。经订制、优化后用于教学项目。  \n",
    "\n",
    "从实践中来，到实践中去。  \n",
    "\n",
    "为了达到更好的教学目的，本教程采用项目制教学，即以项目为主线开展教学，在项目实现过程中逐一讨论出现的知识点。项目本身不是目的，知识才是，因此项目只是知识点的引子。虽说项目不是目的，但项目过程是知识学习中非常宝贵的一笔财富，它会使知识点更有生命，可以透过项目探秘知识背后的原理。"
   ]
  },
  {
   "cell_type": "markdown",
   "metadata": {},
   "source": [
    "# 项目需求\n",
    "\n",
    "随着医疗技术和云技术的发展，云监护仪应运而生。云监护仪与传统监护仪的区别在于具备云端接口，可将数据上传至云端，为远程医疗、无缝转院等提供技术可能。云监护系统由末端监护仪获取传感器数据，并上传到云端服务器，由服务器完成数据的存储、分析，终端设备可访问云端服务器，获取病人数据，从而实现远程诊断的技术支持。\n",
    "\n",
    "云监护系统中的云监护仪比传统监护仪多了云端接口能里，可将本地数据上传到云端，同时可与云端服务器进行必要的数据交互。\n",
    "\n",
    "借鉴传统监护设备的人机交互，结合云监护的应用场景，我们得到如下人机交互界面作为基本需求：\n",
    "\n",
    "![](./image/cloud_monitor.png)"
   ]
  },
  {
   "cell_type": "markdown",
   "metadata": {},
   "source": [
    "如上图，云监护人机交互界面中包含由；设备信息、云连接状态、病人信息按钮、心电波形(ECG)、血氧波形(SPO2)、呼吸波形(RESP)、心跳数据(HR)、血压数据(NIBP)、血氧数据(SPO2)、人体温度(TEMP)、呼吸数据(RESP)、二氧化碳数据(CO2)等内容。"
   ]
  },
  {
   "cell_type": "markdown",
   "metadata": {},
   "source": [
    "# 项目方案讨论\n",
    "\n",
    "为了保证项目的顺利进展，我们需要对项目进行分析、拆解讨论一个合理方案：用什么工具实现、如何实现\n",
    "\n",
    "Tips：我们是以学习为目的，以项目为载体，所以教程中假定大家对开发平台没有太多了解。\n",
    "\n",
    "## 方案讨论会\n",
    "\n",
    "为了更好的交流，项目组专门开了一个方案讨论会。重点从两方面开展：用什么工具/实现项目需求中的界面、项目如何分工\n",
    "\n",
    "项目组有三个人：嵌入式设备端的嵌入式工程师、服务器后台开发工程师、终端设备应用工程师。\n",
    "嵌入式工程师：负责从传感器获取数据并将数据转发至服务器，同时在本地把采集到的数据展示到本机的屏幕上。客户特别提出，监护仪设备有不同的版本，主要区别是供电方式和屏幕大小。这里的屏幕大小很关键，因为它涉及到我们设计出来的终端界面需要适配不同的屏幕，这在项目一开始的时候就要确认，否则开发出的软件的兼容性就有可能出问题。\n",
    "\n",
    "服务器工程师：负责从监护仪接收数据，并进行协议解析然后存入数据库，同时响应终端设备的数据请求，把数据库中的数据转发给终端设备。\n",
    "\n",
    "终端设应用工程师：负责小程序开发，\n",
    "\n",
    "* 温度显示：先画个窗口，显示出温度数据\n",
    "* 美化这个界面，修改背景颜色，字体颜色等\n",
    "* 增加小图标显示\n",
    "* 把温度窗口封装成一个标准件,然后其他血氧\\血氧等进行套用\n",
    "* 界面布局规划-Layout，规划设计出整体界面\n",
    "* 怎么画图？例如画个方形、三角形、圆形、画个国旗等\n",
    "* 怎么画波形？"
   ]
  },
  {
   "cell_type": "markdown",
   "metadata": {},
   "source": [
    "# 项目实施"
   ]
  },
  {
   "cell_type": "markdown",
   "metadata": {},
   "source": [
    "## [温度显示](./qt_temp.ipynb)\n",
    "\n",
    "温度显示会从最基础的开发平台测试开始，逐步到窗口创建，文本显示\n",
    "\n",
    "### [左下角需要显示个时间](./qt_temp_with_time.ipynb)\n",
    "\n",
    "在界面左下角显示时间，可用时间毫秒做一个小游戏\n",
    "\n",
    "## [图标和按钮]()\n",
    "\n",
    "完成温度显示后，接到客户需求变更，要求显示一个开机800x500的界面，界面上提供三个按钮：演示模式、正常模式、参数配置。并且客户要求按钮为圆形，上面显示图案如下：\n",
    "\n",
    "|<img src=\"./image/button_replay.png\" width=\"45%\">|<img src=\"./image/button_login.png\" width=\"45%\">|<img src=\"./image/button_set.png\" width=\"45%\">|\n",
    "|:--:|:--:|:--:|\n",
    "\n",
    "\n",
    "### ~~石头剪刀布游戏~~\n",
    "\n",
    "### ~~扫雷小游戏~~\n",
    "\n",
    "## [界面布局]()\n",
    "\n",
    "qt有多种界面布局方法，如何选择与使用，最终完成整体界面布局...\n",
    "\n",
    "## [窗口样式表]()\n",
    "\n",
    "## [窗口中画图]()\n",
    "\n",
    "如何在窗口特定区域画图，画个方形、圆形、正弦波？画图的目的是为了最终的目标画心电波形、血氧波形\n",
    "\n",
    "## [窗口中波形]()"
   ]
  },
  {
   "cell_type": "code",
   "execution_count": null,
   "metadata": {},
   "outputs": [],
   "source": []
  },
  {
   "cell_type": "code",
   "execution_count": null,
   "metadata": {},
   "outputs": [],
   "source": []
  }
 ],
 "metadata": {
  "kernelspec": {
   "display_name": "Python [conda env:root] *",
   "language": "python",
   "name": "conda-root-py"
  },
  "language_info": {
   "codemirror_mode": {
    "name": "ipython",
    "version": 3
   },
   "file_extension": ".py",
   "mimetype": "text/x-python",
   "name": "python",
   "nbconvert_exporter": "python",
   "pygments_lexer": "ipython3",
   "version": "3.7.0"
  },
  "toc": {
   "base_numbering": 1,
   "nav_menu": {},
   "number_sections": true,
   "sideBar": true,
   "skip_h1_title": false,
   "title_cell": "Table of Contents",
   "title_sidebar": "Contents",
   "toc_cell": false,
   "toc_position": {
    "height": "calc(100% - 180px)",
    "left": "10px",
    "top": "150px",
    "width": "261.375px"
   },
   "toc_section_display": true,
   "toc_window_display": true
  }
 },
 "nbformat": 4,
 "nbformat_minor": 2
}
